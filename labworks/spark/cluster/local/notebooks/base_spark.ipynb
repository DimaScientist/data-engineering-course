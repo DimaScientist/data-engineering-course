{
 "cells": [
  {
   "cell_type": "markdown",
   "metadata": {
    "collapsed": false,
    "jupyter": {
     "outputs_hidden": false
    }
   },
   "source": [
    "# Обзор Spark"
   ]
  },
  {
   "cell_type": "markdown",
   "metadata": {},
   "source": [
    "Рассмотрим пример работы с кластером Spark на примере задачи предсказания цены на дома *California housing dataset*."
   ]
  },
  {
   "cell_type": "markdown",
   "metadata": {},
   "source": [
    "Все наборы данных должны быть в директории __/opt/workspace/datain/__.\n",
    "Скачаем все необходимые данные и запищем в директорию со следующим путем __/opt/workspace/datain/california-housing/california_housing_train.csv__."
   ]
  },
  {
   "cell_type": "code",
   "execution_count": null,
   "outputs": [],
   "source": [
    "!mkdir -p /opt/workspace/datain/california-housing"
   ],
   "metadata": {
    "collapsed": false
   }
  },
  {
   "cell_type": "code",
   "execution_count": 57,
   "metadata": {},
   "outputs": [],
   "source": [
    "import os\n",
    "import wget\n",
    "\n",
    "housing_data_path = \"/opt/workspace/datain/california-housing/california_housing_train.csv\"\n",
    "if not os.path.exists(housing_data_path):  # Если файл есть, то не скачиваем\n",
    "    url = \"https://raw.githubusercontent.com/timothypesi/Data-Sets-For-Machine-Learning-/main/california_housing_train.csv\"\n",
    "    wget.download(url, out=housing_data_path)"
   ]
  },
  {
   "cell_type": "markdown",
   "metadata": {},
   "source": [
    "Импортируем все необходимые библиотеки"
   ]
  },
  {
   "cell_type": "code",
   "execution_count": 58,
   "metadata": {
    "collapsed": false,
    "jupyter": {
     "outputs_hidden": false
    }
   },
   "outputs": [],
   "source": [
    "import numpy as np\n",
    "\n",
    "from pyspark.sql import SparkSession, SQLContext\n",
    "\n",
    "import pyspark.sql.functions as F\n",
    "from pyspark.sql.functions import col\n",
    "\n",
    "from pyspark.ml.regression import LinearRegression\n",
    "\n",
    "from pyspark.ml.feature import VectorAssembler, StandardScaler\n",
    "from pyspark.ml.evaluation import RegressionEvaluator"
   ]
  },
  {
   "cell_type": "markdown",
   "metadata": {},
   "source": [
    "Фиксируем *random seed*."
   ]
  },
  {
   "cell_type": "code",
   "execution_count": 59,
   "metadata": {
    "collapsed": false,
    "jupyter": {
     "outputs_hidden": false
    }
   },
   "outputs": [],
   "source": [
    "np.random.seed = 42\n",
    "np.random.set_state = 42"
   ]
  },
  {
   "cell_type": "markdown",
   "metadata": {},
   "source": [
    "Создаем сессию Spark с подключением к узлу-мастеру в кластере"
   ]
  },
  {
   "cell_type": "code",
   "execution_count": 60,
   "metadata": {
    "collapsed": false,
    "jupyter": {
     "outputs_hidden": false
    }
   },
   "outputs": [],
   "source": [
    "spark = SparkSession \\\n",
    "        .builder \\\n",
    "        .appName(\"linear-regression-california-housing\") \\\n",
    "        .master(\"spark://spark-master:7077\") \\\n",
    "        .getOrCreate()"
   ]
  },
  {
   "cell_type": "code",
   "execution_count": 61,
   "metadata": {
    "collapsed": false,
    "jupyter": {
     "outputs_hidden": false
    }
   },
   "outputs": [
    {
     "data": {
      "text/html": [
       "\n",
       "            <div>\n",
       "                <p><b>SparkSession - in-memory</b></p>\n",
       "                \n",
       "        <div>\n",
       "            <p><b>SparkContext</b></p>\n",
       "\n",
       "            <p><a href=\"http://c29ded62865c:4040\">Spark UI</a></p>\n",
       "\n",
       "            <dl>\n",
       "              <dt>Version</dt>\n",
       "                <dd><code>v3.5.0</code></dd>\n",
       "              <dt>Master</dt>\n",
       "                <dd><code>spark://spark-master:7077</code></dd>\n",
       "              <dt>AppName</dt>\n",
       "                <dd><code>linear-regression-california-housing</code></dd>\n",
       "            </dl>\n",
       "        </div>\n",
       "        \n",
       "            </div>\n",
       "        "
      ],
      "text/plain": [
       "<pyspark.sql.session.SparkSession at 0x7ff27cc3bd90>"
      ]
     },
     "execution_count": 61,
     "metadata": {},
     "output_type": "execute_result"
    }
   ],
   "source": [
    "spark"
   ]
  },
  {
   "cell_type": "markdown",
   "metadata": {},
   "source": [
    "Создаем контекст, в котором будем работать"
   ]
  },
  {
   "cell_type": "code",
   "execution_count": 62,
   "metadata": {
    "collapsed": false,
    "jupyter": {
     "outputs_hidden": false
    }
   },
   "outputs": [
    {
     "data": {
      "text/html": [
       "\n",
       "        <div>\n",
       "            <p><b>SparkContext</b></p>\n",
       "\n",
       "            <p><a href=\"http://c29ded62865c:4040\">Spark UI</a></p>\n",
       "\n",
       "            <dl>\n",
       "              <dt>Version</dt>\n",
       "                <dd><code>v3.5.0</code></dd>\n",
       "              <dt>Master</dt>\n",
       "                <dd><code>spark://spark-master:7077</code></dd>\n",
       "              <dt>AppName</dt>\n",
       "                <dd><code>linear-regression-california-housing</code></dd>\n",
       "            </dl>\n",
       "        </div>\n",
       "        "
      ],
      "text/plain": [
       "<SparkContext master=spark://spark-master:7077 appName=linear-regression-california-housing>"
      ]
     },
     "execution_count": 62,
     "metadata": {},
     "output_type": "execute_result"
    }
   ],
   "source": [
    "sc = spark.sparkContext\n",
    "sc"
   ]
  },
  {
   "cell_type": "code",
   "execution_count": 63,
   "metadata": {
    "collapsed": false,
    "jupyter": {
     "outputs_hidden": false
    }
   },
   "outputs": [
    {
     "name": "stderr",
     "output_type": "stream",
     "text": [
      "/usr/local/lib/python3.9/site-packages/pyspark/sql/context.py:113: FutureWarning: Deprecated in 3.0.0. Use SparkSession.builder.getOrCreate() instead.\n",
      "  warnings.warn(\n"
     ]
    },
    {
     "data": {
      "text/plain": [
       "<pyspark.sql.context.SQLContext at 0x7ff27cc3b5b0>"
      ]
     },
     "execution_count": 63,
     "metadata": {},
     "output_type": "execute_result"
    }
   ],
   "source": [
    "sqlContext = SQLContext(spark.sparkContext)\n",
    "sqlContext"
   ]
  },
  {
   "cell_type": "markdown",
   "metadata": {},
   "source": [
    "## Считывание данных"
   ]
  },
  {
   "cell_type": "markdown",
   "metadata": {},
   "source": [
    "Считывание данных происходит при помощи `read.csv(<путь к файлу>)`.\n",
    "\n",
    "Дополнительные настройки для считывания можно задавать в `.csv` или добавить `.option`. В данном примере были добавлены две опции на считывание:\n",
    "\n",
    "* `option(\"inferSchema\", True)` - Spark анализирует данные в csv-файле и на его основе строит схему. По умолчанию тип данных в столбце будет строка.\n",
    "  Также можно явно добавить схему, используя типы из `pyspark.sql.types`, как при задании таблицы в БД.\n",
    "* `option(\"header\", True)` - в данном файле присутствуют заголовки таблиц.\n",
    "\n",
    "Полное описаний опций можно найти на официальной странице [документации](https://spark.apache.org/docs/latest/sql-data-sources-csv.html)."
   ]
  },
  {
   "cell_type": "code",
   "execution_count": 64,
   "metadata": {
    "collapsed": false,
    "jupyter": {
     "outputs_hidden": false
    }
   },
   "outputs": [
    {
     "name": "stderr",
     "output_type": "stream",
     "text": [
      "                                                                                \r"
     ]
    }
   ],
   "source": [
    "housing_df = spark.read.option(\"inferSchema\", True).option(\"header\", True).csv(housing_data_path)"
   ]
  },
  {
   "cell_type": "markdown",
   "metadata": {},
   "source": [
    "Выведем схему при помощи функции `printSchema()`. Также схему можно вывести при помощи поля `schema`."
   ]
  },
  {
   "cell_type": "code",
   "execution_count": 65,
   "metadata": {
    "collapsed": false,
    "jupyter": {
     "outputs_hidden": false
    }
   },
   "outputs": [
    {
     "name": "stdout",
     "output_type": "stream",
     "text": [
      "root\n",
      " |-- longitude: double (nullable = true)\n",
      " |-- latitude: double (nullable = true)\n",
      " |-- housing_median_age: double (nullable = true)\n",
      " |-- total_rooms: double (nullable = true)\n",
      " |-- total_bedrooms: double (nullable = true)\n",
      " |-- population: double (nullable = true)\n",
      " |-- households: double (nullable = true)\n",
      " |-- median_income: double (nullable = true)\n",
      " |-- median_house_value: double (nullable = true)\n",
      "\n"
     ]
    }
   ],
   "source": [
    "housing_df.printSchema()"
   ]
  },
  {
   "cell_type": "code",
   "execution_count": 66,
   "metadata": {},
   "outputs": [
    {
     "data": {
      "text/plain": [
       "StructType([StructField('longitude', DoubleType(), True), StructField('latitude', DoubleType(), True), StructField('housing_median_age', DoubleType(), True), StructField('total_rooms', DoubleType(), True), StructField('total_bedrooms', DoubleType(), True), StructField('population', DoubleType(), True), StructField('households', DoubleType(), True), StructField('median_income', DoubleType(), True), StructField('median_house_value', DoubleType(), True)])"
      ]
     },
     "execution_count": 66,
     "metadata": {},
     "output_type": "execute_result"
    }
   ],
   "source": [
    "housing_df.schema"
   ]
  },
  {
   "cell_type": "markdown",
   "metadata": {},
   "source": [
    "Если нужно обратиться прямо к содержимому DataFrame, то можете использовать функцию `take`.\n",
    "Для простой визуализации данных используется `show`."
   ]
  },
  {
   "cell_type": "code",
   "execution_count": 67,
   "metadata": {},
   "outputs": [
    {
     "data": {
      "text/plain": [
       "[Row(longitude=-114.31, latitude=34.19, housing_median_age=15.0, total_rooms=5612.0, total_bedrooms=1283.0, population=1015.0, households=472.0, median_income=1.4936, median_house_value=66900.0),\n",
       " Row(longitude=-114.47, latitude=34.4, housing_median_age=19.0, total_rooms=7650.0, total_bedrooms=1901.0, population=1129.0, households=463.0, median_income=1.82, median_house_value=80100.0),\n",
       " Row(longitude=-114.56, latitude=33.69, housing_median_age=17.0, total_rooms=720.0, total_bedrooms=174.0, population=333.0, households=117.0, median_income=1.6509, median_house_value=85700.0),\n",
       " Row(longitude=-114.57, latitude=33.64, housing_median_age=14.0, total_rooms=1501.0, total_bedrooms=337.0, population=515.0, households=226.0, median_income=3.1917, median_house_value=73400.0),\n",
       " Row(longitude=-114.57, latitude=33.57, housing_median_age=20.0, total_rooms=1454.0, total_bedrooms=326.0, population=624.0, households=262.0, median_income=1.925, median_house_value=65500.0),\n",
       " Row(longitude=-114.58, latitude=33.63, housing_median_age=29.0, total_rooms=1387.0, total_bedrooms=236.0, population=671.0, households=239.0, median_income=3.3438, median_house_value=74000.0),\n",
       " Row(longitude=-114.58, latitude=33.61, housing_median_age=25.0, total_rooms=2907.0, total_bedrooms=680.0, population=1841.0, households=633.0, median_income=2.6768, median_house_value=82400.0),\n",
       " Row(longitude=-114.59, latitude=34.83, housing_median_age=41.0, total_rooms=812.0, total_bedrooms=168.0, population=375.0, households=158.0, median_income=1.7083, median_house_value=48500.0),\n",
       " Row(longitude=-114.59, latitude=33.61, housing_median_age=34.0, total_rooms=4789.0, total_bedrooms=1175.0, population=3134.0, households=1056.0, median_income=2.1782, median_house_value=58400.0),\n",
       " Row(longitude=-114.6, latitude=34.83, housing_median_age=46.0, total_rooms=1497.0, total_bedrooms=309.0, population=787.0, households=271.0, median_income=2.1908, median_house_value=48100.0)]"
      ]
     },
     "execution_count": 67,
     "metadata": {},
     "output_type": "execute_result"
    }
   ],
   "source": [
    "housing_df.take(10)"
   ]
  },
  {
   "cell_type": "code",
   "execution_count": 68,
   "metadata": {},
   "outputs": [
    {
     "name": "stdout",
     "output_type": "stream",
     "text": [
      "+---------+--------+------------------+-----------+--------------+----------+----------+-------------+------------------+\n",
      "|longitude|latitude|housing_median_age|total_rooms|total_bedrooms|population|households|median_income|median_house_value|\n",
      "+---------+--------+------------------+-----------+--------------+----------+----------+-------------+------------------+\n",
      "|  -114.31|   34.19|              15.0|     5612.0|        1283.0|    1015.0|     472.0|       1.4936|           66900.0|\n",
      "|  -114.47|    34.4|              19.0|     7650.0|        1901.0|    1129.0|     463.0|         1.82|           80100.0|\n",
      "|  -114.56|   33.69|              17.0|      720.0|         174.0|     333.0|     117.0|       1.6509|           85700.0|\n",
      "|  -114.57|   33.64|              14.0|     1501.0|         337.0|     515.0|     226.0|       3.1917|           73400.0|\n",
      "|  -114.57|   33.57|              20.0|     1454.0|         326.0|     624.0|     262.0|        1.925|           65500.0|\n",
      "|  -114.58|   33.63|              29.0|     1387.0|         236.0|     671.0|     239.0|       3.3438|           74000.0|\n",
      "|  -114.58|   33.61|              25.0|     2907.0|         680.0|    1841.0|     633.0|       2.6768|           82400.0|\n",
      "|  -114.59|   34.83|              41.0|      812.0|         168.0|     375.0|     158.0|       1.7083|           48500.0|\n",
      "|  -114.59|   33.61|              34.0|     4789.0|        1175.0|    3134.0|    1056.0|       2.1782|           58400.0|\n",
      "|   -114.6|   34.83|              46.0|     1497.0|         309.0|     787.0|     271.0|       2.1908|           48100.0|\n",
      "+---------+--------+------------------+-----------+--------------+----------+----------+-------------+------------------+\n",
      "only showing top 10 rows\n",
      "\n"
     ]
    }
   ],
   "source": [
    "housing_df.show(10)"
   ]
  },
  {
   "cell_type": "markdown",
   "metadata": {},
   "source": [
    "Как и в Pandas можете посмотреть на колонки в DataFrame"
   ]
  },
  {
   "cell_type": "code",
   "execution_count": 69,
   "metadata": {
    "collapsed": false,
    "jupyter": {
     "outputs_hidden": false
    }
   },
   "outputs": [
    {
     "data": {
      "text/plain": [
       "['longitude',\n",
       " 'latitude',\n",
       " 'housing_median_age',\n",
       " 'total_rooms',\n",
       " 'total_bedrooms',\n",
       " 'population',\n",
       " 'households',\n",
       " 'median_income',\n",
       " 'median_house_value']"
      ]
     },
     "execution_count": 69,
     "metadata": {},
     "output_type": "execute_result"
    }
   ],
   "source": [
    "housing_df.columns"
   ]
  },
  {
   "cell_type": "markdown",
   "metadata": {},
   "source": [
    "Для выбора колонок в Spark используется схожая с SQL функция `select`, в которой перечисляются необходимые столбцы."
   ]
  },
  {
   "cell_type": "code",
   "execution_count": 70,
   "metadata": {
    "collapsed": false,
    "jupyter": {
     "outputs_hidden": false
    }
   },
   "outputs": [
    {
     "name": "stdout",
     "output_type": "stream",
     "text": [
      "+----------+--------------+\n",
      "|population|total_bedrooms|\n",
      "+----------+--------------+\n",
      "|    1015.0|        1283.0|\n",
      "|    1129.0|        1901.0|\n",
      "|     333.0|         174.0|\n",
      "|     515.0|         337.0|\n",
      "|     624.0|         326.0|\n",
      "|     671.0|         236.0|\n",
      "|    1841.0|         680.0|\n",
      "|     375.0|         168.0|\n",
      "|    3134.0|        1175.0|\n",
      "|     787.0|         309.0|\n",
      "+----------+--------------+\n",
      "only showing top 10 rows\n",
      "\n"
     ]
    }
   ],
   "source": [
    "housing_df.select(\"population\", \"total_bedrooms\").show(10)"
   ]
  },
  {
   "cell_type": "markdown",
   "metadata": {},
   "source": [
    "## Анализ данных"
   ]
  },
  {
   "cell_type": "markdown",
   "metadata": {},
   "source": [
    "Давайте взглянем на распределение возрастов домов.\n",
    "Для этого сгруппируем все записи по возрастам в колонке `housing_median_age`, подсчитаем их количество и отсортируем по убыванию."
   ]
  },
  {
   "cell_type": "code",
   "execution_count": 71,
   "metadata": {
    "collapsed": false,
    "jupyter": {
     "outputs_hidden": false
    }
   },
   "outputs": [],
   "source": [
    "housing_median_age_df = housing_df.groupBy(\"housing_median_age\").count().sort(\"housing_median_age\", ascending=False)"
   ]
  },
  {
   "cell_type": "code",
   "execution_count": 72,
   "metadata": {
    "collapsed": false,
    "jupyter": {
     "outputs_hidden": false
    }
   },
   "outputs": [
    {
     "name": "stdout",
     "output_type": "stream",
     "text": [
      "+------------------+-----+\n",
      "|housing_median_age|count|\n",
      "+------------------+-----+\n",
      "|              52.0| 1052|\n",
      "|              51.0|   32|\n",
      "|              50.0|  112|\n",
      "|              49.0|  111|\n",
      "|              48.0|  135|\n",
      "|              47.0|  175|\n",
      "|              46.0|  196|\n",
      "|              45.0|  235|\n",
      "|              44.0|  296|\n",
      "|              43.0|  286|\n",
      "+------------------+-----+\n",
      "only showing top 10 rows\n",
      "\n"
     ]
    }
   ],
   "source": [
    "housing_median_age_df.show(10)"
   ]
  },
  {
   "cell_type": "markdown",
   "metadata": {},
   "source": [
    "Также при помощи `toPandas()` вы можете преобразовать к знакомому Pandas DataFrame и использовать его функционал.\n",
    "В частности изобразим полученное распределение."
   ]
  },
  {
   "cell_type": "code",
   "execution_count": 73,
   "metadata": {
    "collapsed": false,
    "jupyter": {
     "outputs_hidden": false
    }
   },
   "outputs": [
    {
     "data": {
      "text/plain": [
       "<Axes: xlabel='housing_median_age'>"
      ]
     },
     "execution_count": 73,
     "metadata": {},
     "output_type": "execute_result"
    },
    {
     "data": {
      "image/png": "[encoded data removed]",
      "text/plain": [
       "<Figure size 1400x600 with 1 Axes>"
      ]
     },
     "metadata": {},
     "output_type": "display_data"
    }
   ],
   "source": [
    "housing_median_age_df.toPandas().plot.bar(x=\"housing_median_age\", figsize=(14, 6))"
   ]
  },
  {
   "cell_type": "markdown",
   "metadata": {},
   "source": [
    "Как и в Pandas, в Spark тоже есть функция `describe`, которая выдает статистику по столбцам."
   ]
  },
  {
   "cell_type": "code",
   "execution_count": 74,
   "metadata": {},
   "outputs": [
    {
     "name": "stdout",
     "output_type": "stream",
     "text": [
      "+-------+-------------------+------------------+------------------+-----------------+-----------------+------------------+-----------------+------------------+------------------+\n",
      "|summary|          longitude|          latitude|housing_median_age|      total_rooms|   total_bedrooms|        population|       households|     median_income|median_house_value|\n",
      "+-------+-------------------+------------------+------------------+-----------------+-----------------+------------------+-----------------+------------------+------------------+\n",
      "|  count|              17000|             17000|             17000|            17000|            17000|             17000|            17000|             17000|             17000|\n",
      "|   mean|-119.56210823529375|  35.6252247058827| 28.58935294117647|2643.664411764706|539.4108235294118|1429.5739411764705|501.2219411764706| 3.883578100000021|207300.91235294117|\n",
      "| stddev| 2.0051664084260357|2.1373397946570867|12.586936981660406|2179.947071452777|421.4994515798648| 1147.852959159527|384.5208408559016|1.9081565183791036|115983.76438720895|\n",
      "|    min|            -124.35|             32.54|               1.0|              2.0|              1.0|               3.0|              1.0|            0.4999|           14999.0|\n",
      "|    max|            -114.31|             41.95|              52.0|          37937.0|           6445.0|           35682.0|           6082.0|           15.0001|          500001.0|\n",
      "+-------+-------------------+------------------+------------------+-----------------+-----------------+------------------+-----------------+------------------+------------------+\n",
      "\n"
     ]
    }
   ],
   "source": [
    "housing_df.describe().show()"
   ]
  },
  {
   "cell_type": "markdown",
   "metadata": {},
   "source": [
    "Также вы можете использовать `select` для манипулирования данными. Давайте для большей наглядности отобразим все числа до 4 знака, воспользовавшись функцией `round` \n",
    "из `pyspark.sql.functions`.\n",
    "\n",
    "Изучите подробнее [документацию](https://spark.apache.org/docs/latest/api/python/reference/pyspark.sql/functions.html) по этому модулю, так как он содержит полно полезных функций."
   ]
  },
  {
   "cell_type": "code",
   "execution_count": 75,
   "metadata": {
    "collapsed": false,
    "jupyter": {
     "outputs_hidden": false
    }
   },
   "outputs": [
    {
     "name": "stdout",
     "output_type": "stream",
     "text": [
      "+-------+------------------+-----------+--------------+----------+----------+-------------+------------------+\n",
      "|summary|housing_median_age|total_rooms|total_bedrooms|population|households|median_income|median_house_value|\n",
      "+-------+------------------+-----------+--------------+----------+----------+-------------+------------------+\n",
      "|  count|           17000.0|    17000.0|       17000.0|   17000.0|   17000.0|      17000.0|           17000.0|\n",
      "|   mean|           28.5894|  2643.6644|      539.4108| 1429.5739|  501.2219|       3.8836|       207300.9124|\n",
      "| stddev|           12.5869|  2179.9471|      421.4995|  1147.853|  384.5208|       1.9082|       115983.7644|\n",
      "|    min|               1.0|        2.0|           1.0|       3.0|       1.0|       0.4999|           14999.0|\n",
      "|    max|              52.0|    37937.0|        6445.0|   35682.0|    6082.0|      15.0001|          500001.0|\n",
      "+-------+------------------+-----------+--------------+----------+----------+-------------+------------------+\n",
      "\n"
     ]
    }
   ],
   "source": [
    "housing_df \\\n",
    "    .describe() \\\n",
    "    .select(\n",
    "        \"summary\",\n",
    "        F.round(\"housing_median_age\", 4).alias(\"housing_median_age\"),\n",
    "        F.round(\"total_rooms\", 4).alias(\"total_rooms\"),\n",
    "        F.round(\"total_bedrooms\", 4).alias(\"total_bedrooms\"),\n",
    "        F.round(\"population\", 4).alias(\"population\"),\n",
    "        F.round(\"households\", 4).alias(\"households\"),\n",
    "        F.round(\"median_income\", 4).alias(\"median_income\"),\n",
    "        F.round(\"median_house_value\", 4).alias(\"median_house_value\"),\n",
    "    ) \\\n",
    "    .show()"
   ]
  },
  {
   "cell_type": "markdown",
   "metadata": {},
   "source": [
    "## Подготовка данных к обучению"
   ]
  },
  {
   "cell_type": "markdown",
   "metadata": {},
   "source": [
    "Наша целевая колонка - медианная стоимость дома `median_house_value`. Чтобы упростить работу с ней, давайте будем исчислять в 1000000.\n",
    "\n",
    "Чтобы выполнять преобразования надо колонками необходимо использовать `withColumn`, которое либо добавляет новый столбец, либо заменяет старый.\n",
    "Все зависит от первого параметра. Вторым параметром идет выражение для колонки."
   ]
  },
  {
   "cell_type": "code",
   "execution_count": 20,
   "metadata": {
    "collapsed": false,
    "jupyter": {
     "outputs_hidden": false
    }
   },
   "outputs": [],
   "source": [
    "housing_df = housing_df.withColumn(\"median_house_value\", col(\"median_house_value\") / 100000)"
   ]
  },
  {
   "cell_type": "code",
   "execution_count": 21,
   "metadata": {
    "collapsed": false,
    "jupyter": {
     "outputs_hidden": false
    }
   },
   "outputs": [
    {
     "name": "stdout",
     "output_type": "stream",
     "text": [
      "+---------+--------+------------------+-----------+--------------+----------+----------+-------------+------------------+\n",
      "|longitude|latitude|housing_median_age|total_rooms|total_bedrooms|population|households|median_income|median_house_value|\n",
      "+---------+--------+------------------+-----------+--------------+----------+----------+-------------+------------------+\n",
      "|  -114.31|   34.19|              15.0|     5612.0|        1283.0|    1015.0|     472.0|       1.4936|             0.669|\n",
      "|  -114.47|    34.4|              19.0|     7650.0|        1901.0|    1129.0|     463.0|         1.82|             0.801|\n",
      "+---------+--------+------------------+-----------+--------------+----------+----------+-------------+------------------+\n",
      "only showing top 2 rows\n",
      "\n"
     ]
    }
   ],
   "source": [
    "housing_df.show(2)"
   ]
  },
  {
   "cell_type": "code",
   "execution_count": 22,
   "metadata": {
    "collapsed": false,
    "jupyter": {
     "outputs_hidden": false
    }
   },
   "outputs": [
    {
     "data": {
      "text/plain": [
       "['longitude',\n",
       " 'latitude',\n",
       " 'housing_median_age',\n",
       " 'total_rooms',\n",
       " 'total_bedrooms',\n",
       " 'population',\n",
       " 'households',\n",
       " 'median_income',\n",
       " 'median_house_value']"
      ]
     },
     "execution_count": 22,
     "metadata": {},
     "output_type": "execute_result"
    }
   ],
   "source": [
    "housing_df.columns"
   ]
  },
  {
   "cell_type": "markdown",
   "metadata": {},
   "source": [
    "Давайте добавим несколько новых признаков:\n",
    "\n",
    "* `rooms_per_households` - отношение количества комнат на количество домов.\n",
    "* `population_per_households` - отношение количества кжителей на количество домов.\n",
    "* `bedrooms_per_room` - отношение количества спален к количеству комнат."
   ]
  },
  {
   "cell_type": "code",
   "execution_count": 23,
   "metadata": {
    "collapsed": false,
    "jupyter": {
     "outputs_hidden": false
    }
   },
   "outputs": [],
   "source": [
    "housing_df = housing_df \\\n",
    "    .withColumn(\"rooms_per_households\", F.round(col(\"total_bedrooms\") / col(\"households\"), 2)) \\\n",
    "    .withColumn(\"population_per_households\", F.round(col(\"population\") / col(\"households\"), 2)) \\\n",
    "    .withColumn(\"bedrooms_per_room\", F.round(col(\"total_bedrooms\") / col(\"total_rooms\"), 2))"
   ]
  },
  {
   "cell_type": "code",
   "execution_count": 24,
   "metadata": {
    "collapsed": false,
    "jupyter": {
     "outputs_hidden": false
    }
   },
   "outputs": [
    {
     "name": "stdout",
     "output_type": "stream",
     "text": [
      "+---------+--------+------------------+-----------+--------------+----------+----------+-------------+------------------+--------------------+-------------------------+-----------------+\n",
      "|longitude|latitude|housing_median_age|total_rooms|total_bedrooms|population|households|median_income|median_house_value|rooms_per_households|population_per_households|bedrooms_per_room|\n",
      "+---------+--------+------------------+-----------+--------------+----------+----------+-------------+------------------+--------------------+-------------------------+-----------------+\n",
      "|  -114.31|   34.19|              15.0|     5612.0|        1283.0|    1015.0|     472.0|       1.4936|             0.669|                2.72|                     2.15|             0.23|\n",
      "|  -114.47|    34.4|              19.0|     7650.0|        1901.0|    1129.0|     463.0|         1.82|             0.801|                4.11|                     2.44|             0.25|\n",
      "|  -114.56|   33.69|              17.0|      720.0|         174.0|     333.0|     117.0|       1.6509|             0.857|                1.49|                     2.85|             0.24|\n",
      "|  -114.57|   33.64|              14.0|     1501.0|         337.0|     515.0|     226.0|       3.1917|             0.734|                1.49|                     2.28|             0.22|\n",
      "|  -114.57|   33.57|              20.0|     1454.0|         326.0|     624.0|     262.0|        1.925|             0.655|                1.24|                     2.38|             0.22|\n",
      "+---------+--------+------------------+-----------+--------------+----------+----------+-------------+------------------+--------------------+-------------------------+-----------------+\n",
      "only showing top 5 rows\n",
      "\n"
     ]
    }
   ],
   "source": [
    "housing_df.show(5)"
   ]
  },
  {
   "cell_type": "markdown",
   "metadata": {},
   "source": [
    "Отберем признаки для обучения."
   ]
  },
  {
   "cell_type": "code",
   "execution_count": 25,
   "metadata": {
    "collapsed": false,
    "jupyter": {
     "outputs_hidden": false
    }
   },
   "outputs": [],
   "source": [
    "housing_df = housing_df.select(\n",
    "    \"median_house_value\",\n",
    "    \"total_bedrooms\",\n",
    "    \"population\",\n",
    "    \"households\",\n",
    "    \"median_income\",\n",
    "    \"rooms_per_households\",\n",
    "    \"population_per_households\",\n",
    "    \"bedrooms_per_room\",\n",
    ")"
   ]
  },
  {
   "cell_type": "code",
   "execution_count": 26,
   "metadata": {
    "collapsed": false,
    "jupyter": {
     "outputs_hidden": false
    }
   },
   "outputs": [],
   "source": [
    "feature_cols = [\n",
    "    \"total_bedrooms\",\n",
    "    \"population\",\n",
    "    \"households\",\n",
    "    \"median_income\",\n",
    "    \"rooms_per_households\",\n",
    "    \"population_per_households\",\n",
    "    \"bedrooms_per_room\",\n",
    "]"
   ]
  },
  {
   "cell_type": "markdown",
   "metadata": {},
   "source": [
    "При помощи `VectorAssembler`объединим колонки в вектор признаков и запишем его в колонку `features`."
   ]
  },
  {
   "cell_type": "code",
   "execution_count": 27,
   "metadata": {
    "collapsed": false,
    "jupyter": {
     "outputs_hidden": false
    }
   },
   "outputs": [],
   "source": [
    "assembler = VectorAssembler(inputCols=feature_cols, outputCol=\"features\")"
   ]
  },
  {
   "cell_type": "code",
   "execution_count": 28,
   "metadata": {
    "collapsed": false,
    "jupyter": {
     "outputs_hidden": false
    }
   },
   "outputs": [],
   "source": [
    "assembled_df = assembler.transform(housing_df)"
   ]
  },
  {
   "cell_type": "code",
   "execution_count": 29,
   "metadata": {
    "collapsed": false,
    "jupyter": {
     "outputs_hidden": false
    }
   },
   "outputs": [
    {
     "name": "stdout",
     "output_type": "stream",
     "text": [
      "+------------------+--------------+----------+----------+-------------+--------------------+-------------------------+-----------------+--------------------------------------------+\n",
      "|median_house_value|total_bedrooms|population|households|median_income|rooms_per_households|population_per_households|bedrooms_per_room|features                                    |\n",
      "+------------------+--------------+----------+----------+-------------+--------------------+-------------------------+-----------------+--------------------------------------------+\n",
      "|0.669             |1283.0        |1015.0    |472.0     |1.4936       |2.72                |2.15                     |0.23             |[1283.0,1015.0,472.0,1.4936,2.72,2.15,0.23] |\n",
      "|0.801             |1901.0        |1129.0    |463.0     |1.82         |4.11                |2.44                     |0.25             |[1901.0,1129.0,463.0,1.82,4.11,2.44,0.25]   |\n",
      "|0.857             |174.0         |333.0     |117.0     |1.6509       |1.49                |2.85                     |0.24             |[174.0,333.0,117.0,1.6509,1.49,2.85,0.24]   |\n",
      "|0.734             |337.0         |515.0     |226.0     |3.1917       |1.49                |2.28                     |0.22             |[337.0,515.0,226.0,3.1917,1.49,2.28,0.22]   |\n",
      "|0.655             |326.0         |624.0     |262.0     |1.925        |1.24                |2.38                     |0.22             |[326.0,624.0,262.0,1.925,1.24,2.38,0.22]    |\n",
      "|0.74              |236.0         |671.0     |239.0     |3.3438       |0.99                |2.81                     |0.17             |[236.0,671.0,239.0,3.3438,0.99,2.81,0.17]   |\n",
      "|0.824             |680.0         |1841.0    |633.0     |2.6768       |1.07                |2.91                     |0.23             |[680.0,1841.0,633.0,2.6768,1.07,2.91,0.23]  |\n",
      "|0.485             |168.0         |375.0     |158.0     |1.7083       |1.06                |2.37                     |0.21             |[168.0,375.0,158.0,1.7083,1.06,2.37,0.21]   |\n",
      "|0.584             |1175.0        |3134.0    |1056.0    |2.1782       |1.11                |2.97                     |0.25             |[1175.0,3134.0,1056.0,2.1782,1.11,2.97,0.25]|\n",
      "|0.481             |309.0         |787.0     |271.0     |2.1908       |1.14                |2.9                      |0.21             |[309.0,787.0,271.0,2.1908,1.14,2.9,0.21]    |\n",
      "+------------------+--------------+----------+----------+-------------+--------------------+-------------------------+-----------------+--------------------------------------------+\n",
      "only showing top 10 rows\n",
      "\n"
     ]
    }
   ],
   "source": [
    "assembled_df.show(10, truncate=False)"
   ]
  },
  {
   "cell_type": "markdown",
   "metadata": {},
   "source": [
    "При помощи `StandardScaler` промасштабируем наши вектора признаков."
   ]
  },
  {
   "cell_type": "code",
   "execution_count": 30,
   "metadata": {
    "collapsed": false,
    "jupyter": {
     "outputs_hidden": false
    }
   },
   "outputs": [],
   "source": [
    "standardScaler = StandardScaler(inputCol=\"features\", outputCol=\"features_scaled\")"
   ]
  },
  {
   "cell_type": "code",
   "execution_count": 31,
   "metadata": {
    "collapsed": false,
    "jupyter": {
     "outputs_hidden": false
    }
   },
   "outputs": [],
   "source": [
    "scaled_df = standardScaler.fit(assembled_df).transform(assembled_df)"
   ]
  },
  {
   "cell_type": "code",
   "execution_count": 32,
   "metadata": {
    "collapsed": false,
    "jupyter": {
     "outputs_hidden": false
    }
   },
   "outputs": [
    {
     "name": "stderr",
     "output_type": "stream",
     "text": [
      "[Stage 25:>                                                         (0 + 1) / 1]\r"
     ]
    },
    {
     "name": "stdout",
     "output_type": "stream",
     "text": [
      "+--------------------------------------------+----------------------------------------------------------------------------------------------------------------------------------------+\n",
      "|features                                    |features_scaled                                                                                                                         |\n",
      "+--------------------------------------------+----------------------------------------------------------------------------------------------------------------------------------------+\n",
      "|[1283.0,1015.0,472.0,1.4936,2.72,2.15,0.23] |[3.043894826413315,0.8842596012848164,1.2275017368353283,0.7827450136369047,5.561631784929747,0.5324656112057998,3.9740715588081668]    |\n",
      "|[1901.0,1129.0,463.0,1.82,4.11,2.44,0.25]   |[4.510088904919495,0.983575457980845,1.2040959833787224,0.9538001639121362,8.403789204434288,0.6042865541126285,4.319642998704529]      |\n",
      "|[174.0,333.0,117.0,1.6509,1.49,2.85,0.24]   |[0.4128119250163031,0.29010684455945207,0.30427479493587584,0.865180599232168,3.0466291763034277,0.7058265078774556,4.146857278756348]  |\n",
      "|[337.0,515.0,226.0,3.1917,1.49,2.28,0.22]   |[0.7995265444281272,0.4486637385829364,0.5877444756881021,1.6726615292078928,3.0466291763034277,0.5646612063019644,3.8012858388599855]  |\n",
      "|[326.0,624.0,262.0,1.925,1.24,2.38,0.22]    |[0.7734292388236483,0.5436236366519462,0.6813674895145254,1.0088270964455286,2.5354497843062083,0.5894270486836295,3.8012858388599855]  |\n",
      "|[236.0,671.0,239.0,3.3438,0.99,2.81,0.17]   |[0.559905829332457,0.5845696477459229,0.6215527862365327,1.7523719714776926,2.024270392308989,0.6959201709247895,2.9373572391190796]    |\n",
      "|[680.0,1841.0,633.0,2.6768,1.07,2.91,0.23]  |[1.6132879828223339,1.603863966468322,1.646204659781277,1.4028199333846187,2.1878477977480992,0.7206860133064547,3.9740715588081668]    |\n",
      "|[168.0,375.0,158.0,1.7083,1.06,2.37,0.21]   |[0.3985770310502237,0.32669689702640997,0.41090100512708017,0.8952619890170891,2.1674006220682105,0.5869504644454631,3.6285001189118042]|\n",
      "|[1175.0,3134.0,1056.0,2.1782,1.11,2.97,0.25]|[2.7876667350238855,2.730314867415384,2.746275072241751,1.1415206137546234,2.269636500467654,0.7355455187354537,4.319642998704529]      |\n",
      "|[309.0,787.0,271.0,2.1908,1.14,2.9,0.21]    |[0.7330970392530899,0.6856278878927591,0.7047732429711312,1.1481238456586307,2.3309780275073204,0.7182094290682881,3.6285001189118042]  |\n",
      "+--------------------------------------------+----------------------------------------------------------------------------------------------------------------------------------------+\n",
      "only showing top 10 rows\n",
      "\n"
     ]
    },
    {
     "name": "stderr",
     "output_type": "stream",
     "text": [
      "                                                                                \r"
     ]
    }
   ],
   "source": [
    "scaled_df.select(\"features\", \"features_scaled\").show(10, truncate=False)"
   ]
  },
  {
   "cell_type": "markdown",
   "metadata": {},
   "source": [
    "`randomSplit` отличается от scikit-learn тем, что в качестве параметра принимает веса для выборок."
   ]
  },
  {
   "cell_type": "code",
   "execution_count": 33,
   "metadata": {
    "collapsed": false,
    "jupyter": {
     "outputs_hidden": false
    }
   },
   "outputs": [],
   "source": [
    "train_data, test_data = scaled_df.randomSplit([.8, .2], seed=42)"
   ]
  },
  {
   "cell_type": "code",
   "execution_count": 34,
   "metadata": {
    "collapsed": false,
    "jupyter": {
     "outputs_hidden": false
    }
   },
   "outputs": [
    {
     "data": {
      "text/plain": [
       "['median_house_value',\n",
       " 'total_bedrooms',\n",
       " 'population',\n",
       " 'households',\n",
       " 'median_income',\n",
       " 'rooms_per_households',\n",
       " 'population_per_households',\n",
       " 'bedrooms_per_room',\n",
       " 'features',\n",
       " 'features_scaled']"
      ]
     },
     "execution_count": 34,
     "metadata": {},
     "output_type": "execute_result"
    }
   ],
   "source": [
    "train_data.columns"
   ]
  },
  {
   "cell_type": "markdown",
   "metadata": {},
   "source": [
    "## Обучение"
   ]
  },
  {
   "cell_type": "markdown",
   "metadata": {},
   "source": [
    "В качестве модели выберем модель линейной регрессии `LinearRegression`, в которой необходимо указать настройки обучения:\n",
    "\n",
    "* колонка с вектором признаков `featuresCol`;\n",
    "* колонка с метками `labelCol`;\n",
    "* колонка для записи предсказаний `predictionCol`;\n",
    "* и др. параметры модели"
   ]
  },
  {
   "cell_type": "code",
   "execution_count": 35,
   "metadata": {
    "collapsed": false,
    "jupyter": {
     "outputs_hidden": false
    }
   },
   "outputs": [],
   "source": [
    "linear_regression = LinearRegression(\n",
    "    featuresCol=\"features_scaled\",\n",
    "    labelCol=\"median_house_value\",\n",
    "    predictionCol=\"prediction_median_house_value\",\n",
    "    maxIter=10,\n",
    "    regParam=0.3,\n",
    "    elasticNetParam=0.8,\n",
    "    standardization=False,\n",
    ")"
   ]
  },
  {
   "cell_type": "markdown",
   "metadata": {},
   "source": [
    "Обучаем."
   ]
  },
  {
   "cell_type": "code",
   "execution_count": 36,
   "metadata": {
    "collapsed": false,
    "jupyter": {
     "outputs_hidden": false
    }
   },
   "outputs": [
    {
     "name": "stderr",
     "output_type": "stream",
     "text": [
      "23/12/04 13:11:16 WARN InstanceBuilder: Failed to load implementation from:dev.ludovic.netlib.blas.JNIBLAS\n",
      "                                                                                \r"
     ]
    }
   ],
   "source": [
    "linear_regression_model = linear_regression.fit(train_data)"
   ]
  },
  {
   "cell_type": "markdown",
   "metadata": {},
   "source": [
    "Давайте посмотрим на параметры модели для каждого признака плюс для смещения."
   ]
  },
  {
   "cell_type": "code",
   "execution_count": 37,
   "metadata": {
    "collapsed": false,
    "jupyter": {
     "outputs_hidden": false
    }
   },
   "outputs": [
    {
     "name": "stdout",
     "output_type": "stream",
     "text": [
      "intercept 0.9869759715354963\n",
      "total_bedrooms 0.0\n",
      "population 0.0\n",
      "households 0.0\n",
      "median_income 0.5343694126364452\n",
      "rooms_per_households 0.0\n",
      "population_per_households 0.0\n",
      "bedrooms_per_room 0.0\n"
     ]
    }
   ],
   "source": [
    "coefficient = {\"intercept\": linear_regression_model.intercept}\n",
    "for col, coef in zip(feature_cols, linear_regression_model.coefficients.toArray()):\n",
    "    coefficient[col] = coef\n",
    "for item in coefficient.items():\n",
    "    print(item[0], item[1])"
   ]
  },
  {
   "cell_type": "markdown",
   "metadata": {},
   "source": [
    "Запишем предсказания для тестового набора"
   ]
  },
  {
   "cell_type": "code",
   "execution_count": 38,
   "metadata": {
    "collapsed": false,
    "jupyter": {
     "outputs_hidden": false
    }
   },
   "outputs": [],
   "source": [
    "predictions = linear_regression_model.transform(test_data)"
   ]
  },
  {
   "cell_type": "code",
   "execution_count": 39,
   "metadata": {
    "collapsed": false,
    "jupyter": {
     "outputs_hidden": false
    }
   },
   "outputs": [],
   "source": [
    "predictions_and_labels = predictions.select(\"prediction_median_house_value\", \"median_house_value\")"
   ]
  },
  {
   "cell_type": "code",
   "execution_count": 40,
   "metadata": {
    "collapsed": false,
    "jupyter": {
     "outputs_hidden": false
    }
   },
   "outputs": [
    {
     "name": "stdout",
     "output_type": "stream",
     "text": [
      "+-----------------------------+------------------+\n",
      "|prediction_median_house_value|median_house_value|\n",
      "+-----------------------------+------------------+\n",
      "|            1.575070163876581|           0.14999|\n",
      "|           1.2086874820480853|             0.225|\n",
      "|           1.2270024154667076|              0.25|\n",
      "|           1.7259863354254432|               0.3|\n",
      "|           1.2856998167594178|             0.342|\n",
      "|           1.2470816314623532|             0.366|\n",
      "|           1.5295628751835209|             0.388|\n",
      "|           1.6980378590465668|               0.4|\n",
      "|            1.559415656566168|             0.421|\n",
      "|            1.137080013009221|             0.425|\n",
      "|           1.4508142623805147|             0.425|\n",
      "|           1.3825393270982498|             0.425|\n",
      "|           1.3370320384051895|             0.425|\n",
      "|             1.34030856319109|             0.427|\n",
      "|           1.2504141652189527|             0.436|\n",
      "|           1.5872241105182967|              0.44|\n",
      "|            1.267020825031251|              0.45|\n",
      "|           1.4134002699534818|             0.469|\n",
      "|            1.580278998151602|             0.475|\n",
      "|           1.7365160219168834|             0.476|\n",
      "+-----------------------------+------------------+\n",
      "only showing top 20 rows\n",
      "\n"
     ]
    }
   ],
   "source": [
    "predictions_and_labels.show()"
   ]
  },
  {
   "cell_type": "markdown",
   "metadata": {},
   "source": [
    "## Оценка модели"
   ]
  },
  {
   "cell_type": "markdown",
   "metadata": {},
   "source": [
    "Модель можно оценить либо с помощью встроенных в модель функций-метрик."
   ]
  },
  {
   "cell_type": "code",
   "execution_count": 41,
   "metadata": {
    "collapsed": false,
    "jupyter": {
     "outputs_hidden": false
    }
   },
   "outputs": [
    {
     "name": "stdout",
     "output_type": "stream",
     "text": [
      "RMSE: 0.884506278377271\n"
     ]
    }
   ],
   "source": [
    "print(\"RMSE: {0}\".format(linear_regression_model.summary.rootMeanSquaredError))"
   ]
  },
  {
   "cell_type": "code",
   "execution_count": 42,
   "metadata": {
    "collapsed": false,
    "jupyter": {
     "outputs_hidden": false
    }
   },
   "outputs": [
    {
     "name": "stdout",
     "output_type": "stream",
     "text": [
      "MAE: 0.6816085980734734\n"
     ]
    }
   ],
   "source": [
    "print(\"MAE: {0}\".format(linear_regression_model.summary.meanAbsoluteError))"
   ]
  },
  {
   "cell_type": "code",
   "execution_count": 43,
   "metadata": {
    "collapsed": false,
    "jupyter": {
     "outputs_hidden": false
    }
   },
   "outputs": [
    {
     "name": "stdout",
     "output_type": "stream",
     "text": [
      "R2: 0.420780332666955\n"
     ]
    }
   ],
   "source": [
    "print(\"R2: {0}\".format(linear_regression_model.summary.r2))"
   ]
  },
  {
   "cell_type": "markdown",
   "metadata": {},
   "source": [
    "Можно оценить качество модели регрессии при помощи `RegressionEvaluator`, указав колонки с меткой, предсказанием и название метрики."
   ]
  },
  {
   "cell_type": "code",
   "execution_count": 44,
   "metadata": {
    "collapsed": false,
    "jupyter": {
     "outputs_hidden": false
    }
   },
   "outputs": [
    {
     "name": "stdout",
     "output_type": "stream",
     "text": [
      "RMSE: 0.8574242179175352\n"
     ]
    }
   ],
   "source": [
    "evaluator = RegressionEvaluator(predictionCol=\"prediction_median_house_value\", labelCol='median_house_value', metricName='rmse')\n",
    "print(\"RMSE: {0}\".format(evaluator.evaluate(predictions_and_labels)))"
   ]
  },
  {
   "cell_type": "code",
   "execution_count": 45,
   "metadata": {
    "collapsed": false,
    "jupyter": {
     "outputs_hidden": false
    }
   },
   "outputs": [
    {
     "name": "stdout",
     "output_type": "stream",
     "text": [
      "MAE: 0.6587587813790874\n"
     ]
    }
   ],
   "source": [
    "evaluator = RegressionEvaluator(predictionCol=\"prediction_median_house_value\", labelCol='median_house_value', metricName='mae')\n",
    "print(\"MAE: {0}\".format(evaluator.evaluate(predictions_and_labels)))"
   ]
  },
  {
   "cell_type": "code",
   "execution_count": 46,
   "metadata": {
    "collapsed": false,
    "jupyter": {
     "outputs_hidden": false
    }
   },
   "outputs": [
    {
     "name": "stdout",
     "output_type": "stream",
     "text": [
      "R2: 0.4438663878697524\n"
     ]
    }
   ],
   "source": [
    "evaluator = RegressionEvaluator(predictionCol=\"prediction_median_house_value\", labelCol='median_house_value', metricName='r2')\n",
    "print(\"R2: {0}\".format(evaluator.evaluate(predictions_and_labels)))"
   ]
  },
  {
   "cell_type": "markdown",
   "metadata": {},
   "source": [
    "Для старого формата `RDD` используется `RegressionMetrics`."
   ]
  },
  {
   "cell_type": "code",
   "execution_count": 47,
   "metadata": {},
   "outputs": [
    {
     "name": "stderr",
     "output_type": "stream",
     "text": [
      "/usr/local/lib/python3.9/site-packages/pyspark/sql/context.py:158: FutureWarning: Deprecated in 3.0.0. Use SparkSession.builder.getOrCreate() instead.\n",
      "  warnings.warn(\n",
      "                                                                                \r"
     ]
    }
   ],
   "source": [
    "metrics = RegressionMetrics(predictions_and_labels.rdd)"
   ]
  },
  {
   "cell_type": "code",
   "execution_count": 48,
   "metadata": {},
   "outputs": [
    {
     "name": "stdout",
     "output_type": "stream",
     "text": [
      "RMSE: 0.8574242179175352\n"
     ]
    }
   ],
   "source": [
    "print(\"RMSE: {0}\".format(metrics.rootMeanSquaredError))"
   ]
  },
  {
   "cell_type": "code",
   "execution_count": 49,
   "metadata": {},
   "outputs": [
    {
     "name": "stdout",
     "output_type": "stream",
     "text": [
      "MAE: 0.6587587813790874\n"
     ]
    }
   ],
   "source": [
    "print(\"MAE: {0}\".format(metrics.meanAbsoluteError))"
   ]
  },
  {
   "cell_type": "code",
   "execution_count": 50,
   "metadata": {},
   "outputs": [
    {
     "name": "stdout",
     "output_type": "stream",
     "text": [
      "R2: 0.4438663878697524\n"
     ]
    }
   ],
   "source": [
    "print(\"R2: {0}\".format(metrics.r2))"
   ]
  },
  {
   "cell_type": "markdown",
   "metadata": {},
   "source": [
    "Больше о пакете Spark ML можно посмотреть на официальной странице с [документацией](https://spark.apache.org/docs/preview/api/python/pyspark.ml.html)."
   ]
  },
  {
   "cell_type": "code",
   "execution_count": 51,
   "metadata": {
    "collapsed": false,
    "jupyter": {
     "outputs_hidden": false
    }
   },
   "outputs": [],
   "source": [
    "spark.stop()"
   ]
  },
  {
   "cell_type": "code",
   "execution_count": null,
   "metadata": {
    "collapsed": false,
    "jupyter": {
     "outputs_hidden": false
    }
   },
   "outputs": [],
   "source": []
  }
 ],
 "metadata": {
  "kernelspec": {
   "display_name": "Python 3 (ipykernel)",
   "language": "python",
   "name": "python3"
  },
  "language_info": {
   "codemirror_mode": {
    "name": "ipython",
    "version": 3
   },
   "file_extension": ".py",
   "mimetype": "text/x-python",
   "name": "python",
   "nbconvert_exporter": "python",
   "pygments_lexer": "ipython3",
   "version": "3.9.6"
  }
 },
 "nbformat": 4,
 "nbformat_minor": 4
}

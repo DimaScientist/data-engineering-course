{
 "cells": [
  {
   "cell_type": "markdown",
   "source": [
    "# Задания по SQL"
   ],
   "metadata": {
    "collapsed": false
   }
  },
  {
   "cell_type": "code",
   "execution_count": null,
   "outputs": [],
   "source": [
    "!pip install -r requirements.txt"
   ],
   "metadata": {
    "collapsed": false
   }
  },
  {
   "cell_type": "code",
   "execution_count": 12,
   "outputs": [
    {
     "data": {
      "text/plain": "True"
     },
     "execution_count": 12,
     "metadata": {},
     "output_type": "execute_result"
    }
   ],
   "source": [
    "import os\n",
    "import warnings\n",
    "\n",
    "from dotenv import load_dotenv\n",
    "\n",
    "warnings.filterwarnings(\"ignore\")\n",
    "load_dotenv()"
   ],
   "metadata": {
    "collapsed": false
   }
  },
  {
   "cell_type": "markdown",
   "source": [
    "Настраиваем psycopg"
   ],
   "metadata": {
    "collapsed": false
   }
  },
  {
   "cell_type": "code",
   "execution_count": 13,
   "outputs": [],
   "source": [
    "import psycopg2\n",
    "\n",
    "psycopg_connection = psycopg2.connect(\n",
    "    database=os.environ.get(\"POSTGRES_DB\"),\n",
    "    user=os.environ.get(\"POSTGRES_USER\"),\n",
    "    password=os.environ.get(\"POSTGRES_PASSWORD\"),\n",
    "    host=os.environ.get(\"POSTGRES_HOST\"),\n",
    "    port=os.environ.get(\"POSTGRES_PORT\"),\n",
    ")"
   ],
   "metadata": {
    "collapsed": false
   }
  },
  {
   "cell_type": "markdown",
   "source": [
    "Импортируем настройки SQLAlchemy"
   ],
   "metadata": {
    "collapsed": false
   }
  },
  {
   "cell_type": "code",
   "execution_count": 2,
   "outputs": [],
   "source": [
    "from sqlalchemy_connection import get_session, Movie, MovieImdb, UserMovieRating, UserMovieTag\n",
    "\n",
    "sqlalchemy_session = next(get_session())"
   ],
   "metadata": {
    "collapsed": false
   }
  },
  {
   "cell_type": "markdown",
   "source": [
    "## Примеры"
   ],
   "metadata": {
    "collapsed": false
   }
  },
  {
   "cell_type": "markdown",
   "source": [
    "1. Выдача фильма по id"
   ],
   "metadata": {
    "collapsed": false
   }
  },
  {
   "cell_type": "code",
   "execution_count": 17,
   "outputs": [
    {
     "name": "stdout",
     "output_type": "stream",
     "text": [
      "id=3417, title=Crimson Pirate, The (1952), genres=Adventure|Comedy\n"
     ]
    }
   ],
   "source": [
    "# Чистый SQL\n",
    "query = \"SELECT * FROM movie WHERE id = %s\"\n",
    "with psycopg_connection.cursor() as cursor:\n",
    "    cursor.execute(query, (3417,))\n",
    "    movie_example = cursor.fetchone()\n",
    "    print(f\"id={movie_example[0]}, title={movie_example[1]}, genres={movie_example[2]}\")"
   ],
   "metadata": {
    "collapsed": false
   }
  },
  {
   "cell_type": "code",
   "execution_count": 6,
   "outputs": [
    {
     "data": {
      "text/plain": "Movie(id=3417, title=Crimson Pirate, The (1952), genres=Adventure|Comedy)"
     },
     "execution_count": 6,
     "metadata": {},
     "output_type": "execute_result"
    }
   ],
   "source": [
    "# SQLAlchemy\n",
    "movie_example = sqlalchemy_session.query(Movie).get(3417)\n",
    "movie_example"
   ],
   "metadata": {
    "collapsed": false
   }
  },
  {
   "cell_type": "markdown",
   "source": [
    "2. Выдача 10 наибольших оценок"
   ],
   "metadata": {
    "collapsed": false
   }
  },
  {
   "cell_type": "code",
   "execution_count": 18,
   "outputs": [
    {
     "name": "stdout",
     "output_type": "stream",
     "text": [
      "movie_id=12, user_id=216, rating=1, timestamp=5.0\n",
      "movie_id=16, user_id=260, rating=1, timestamp=5.0\n",
      "movie_id=11, user_id=163, rating=1, timestamp=5.0\n",
      "movie_id=5, user_id=50, rating=1, timestamp=5.0\n",
      "movie_id=14, user_id=231, rating=1, timestamp=5.0\n",
      "movie_id=7, user_id=101, rating=1, timestamp=5.0\n",
      "movie_id=4, user_id=47, rating=1, timestamp=5.0\n",
      "movie_id=9, user_id=151, rating=1, timestamp=5.0\n",
      "movie_id=10, user_id=157, rating=1, timestamp=5.0\n",
      "movie_id=19, user_id=333, rating=1, timestamp=5.0\n"
     ]
    }
   ],
   "source": [
    "# Чистый SQL\n",
    "query = \"SELECT * FROM user_movie_rating ORDER BY rating DESC LIMIT 10\"\n",
    "with psycopg_connection.cursor() as cursor:\n",
    "    cursor.execute(query)\n",
    "    most_ratings = cursor.fetchall()\n",
    "    for most_rating in most_ratings:\n",
    "        print(f\"movie_id={most_rating[0]}, user_id={most_rating[1]}, rating={most_rating[2]}, timestamp={most_rating[3]}\")"
   ],
   "metadata": {
    "collapsed": false
   }
  },
  {
   "cell_type": "code",
   "execution_count": 8,
   "outputs": [
    {
     "name": "stdout",
     "output_type": "stream",
     "text": [
      "UserMovieRating(movie_id=216, user_id=1, rating=5.0, timestamp=964981208)\n",
      "UserMovieRating(movie_id=260, user_id=1, rating=5.0, timestamp=964981680)\n",
      "UserMovieRating(movie_id=163, user_id=1, rating=5.0, timestamp=964983650)\n",
      "UserMovieRating(movie_id=50, user_id=1, rating=5.0, timestamp=964982931)\n",
      "UserMovieRating(movie_id=231, user_id=1, rating=5.0, timestamp=964981179)\n",
      "UserMovieRating(movie_id=101, user_id=1, rating=5.0, timestamp=964980868)\n",
      "UserMovieRating(movie_id=47, user_id=1, rating=5.0, timestamp=964983815)\n",
      "UserMovieRating(movie_id=151, user_id=1, rating=5.0, timestamp=964984041)\n",
      "UserMovieRating(movie_id=157, user_id=1, rating=5.0, timestamp=964984100)\n",
      "UserMovieRating(movie_id=333, user_id=1, rating=5.0, timestamp=964981179)\n"
     ]
    }
   ],
   "source": [
    "# SQLAlchemy\n",
    "most_ratings = sqlalchemy_session.query(UserMovieRating).order_by(UserMovieRating.rating.desc()).limit(10).all()\n",
    "for most_rating in most_ratings:\n",
    "    print(most_rating)"
   ],
   "metadata": {
    "collapsed": false
   }
  },
  {
   "cell_type": "markdown",
   "source": [
    "3. Выдача 10 наибольших оценок с фильмами"
   ],
   "metadata": {
    "collapsed": false
   }
  },
  {
   "cell_type": "code",
   "execution_count": 20,
   "outputs": [
    {
     "name": "stdout",
     "output_type": "stream",
     "text": [
      "Movie: Billy Madison (1995), genres: Comedy, user_id: 1, rating: 5.0\n",
      "Movie: Star Wars: Episode IV - A New Hope (1977), genres: Action|Adventure|Sci-Fi, user_id: 1, rating: 5.0\n",
      "Movie: Desperado (1995), genres: Action|Romance|Western, user_id: 1, rating: 5.0\n",
      "Movie: Usual Suspects, The (1995), genres: Crime|Mystery|Thriller, user_id: 1, rating: 5.0\n",
      "Movie: Dumb & Dumber (Dumb and Dumber) (1994), genres: Adventure|Comedy, user_id: 1, rating: 5.0\n",
      "Movie: Bottle Rocket (1996), genres: Adventure|Comedy|Crime|Romance, user_id: 1, rating: 5.0\n",
      "Movie: Seven (a.k.a. Se7en) (1995), genres: Mystery|Thriller, user_id: 1, rating: 5.0\n",
      "Movie: Rob Roy (1995), genres: Action|Drama|Romance|War, user_id: 1, rating: 5.0\n",
      "Movie: Canadian Bacon (1995), genres: Comedy|War, user_id: 1, rating: 5.0\n",
      "Movie: Tommy Boy (1995), genres: Comedy, user_id: 1, rating: 5.0\n"
     ]
    }
   ],
   "source": [
    "# Чистый SQL\n",
    "query = \"\"\"\n",
    "SELECT\n",
    "    movie.title AS movie_title,\n",
    "    movie.genres AS movie_genres,\n",
    "    umr.user_id AS user_id,\n",
    "    umr.rating AS rating\n",
    "FROM movie\n",
    "JOIN user_movie_rating umr on movie.id = umr.movie_id\n",
    "ORDER BY umr.rating DESC\n",
    "LIMIT 10\n",
    "\"\"\"\n",
    "with psycopg_connection.cursor() as cursor:\n",
    "    cursor.execute(query)\n",
    "    most_ratings_and_films = cursor.fetchall()\n",
    "    for item in most_ratings_and_films:\n",
    "        print(f\"Movie: {item[0]}, genres: {item[1]}, user_id: {item[2]}, rating: {item[3]}\")"
   ],
   "metadata": {
    "collapsed": false
   }
  },
  {
   "cell_type": "code",
   "execution_count": 9,
   "outputs": [
    {
     "name": "stdout",
     "output_type": "stream",
     "text": [
      "Movie: Billy Madison (1995), genres: Comedy, user_id: 1, rating: 5.0\n",
      "Movie: Star Wars: Episode IV - A New Hope (1977), genres: Action|Adventure|Sci-Fi, user_id: 1, rating: 5.0\n",
      "Movie: Desperado (1995), genres: Action|Romance|Western, user_id: 1, rating: 5.0\n",
      "Movie: Usual Suspects, The (1995), genres: Crime|Mystery|Thriller, user_id: 1, rating: 5.0\n",
      "Movie: Dumb & Dumber (Dumb and Dumber) (1994), genres: Adventure|Comedy, user_id: 1, rating: 5.0\n",
      "Movie: Bottle Rocket (1996), genres: Adventure|Comedy|Crime|Romance, user_id: 1, rating: 5.0\n",
      "Movie: Seven (a.k.a. Se7en) (1995), genres: Mystery|Thriller, user_id: 1, rating: 5.0\n",
      "Movie: Rob Roy (1995), genres: Action|Drama|Romance|War, user_id: 1, rating: 5.0\n",
      "Movie: Canadian Bacon (1995), genres: Comedy|War, user_id: 1, rating: 5.0\n",
      "Movie: Tommy Boy (1995), genres: Comedy, user_id: 1, rating: 5.0\n"
     ]
    }
   ],
   "source": [
    "# SQLAlchemy\n",
    "most_ratings_and_films = sqlalchemy_session.query(\n",
    "    Movie.title.label(\"movie_title\"),\n",
    "    Movie.genres.label(\"movie_genres\"),\n",
    "    UserMovieRating.user_id.label(\"user_id\"),\n",
    "    UserMovieRating.rating.label(\"rating\")\n",
    ").select_from(Movie) \\\n",
    "    .join(UserMovieRating, Movie.id == UserMovieRating.movie_id) \\\n",
    "    .order_by(UserMovieRating.rating.desc()) \\\n",
    "    .limit(10) \\\n",
    "    .all()\n",
    "\n",
    "for item in most_ratings_and_films:\n",
    "    print(f\"Movie: {item.movie_title}, genres: {item.movie_genres}, user_id: {item.user_id}, rating: {item.rating}\")"
   ],
   "metadata": {
    "collapsed": false
   }
  },
  {
   "cell_type": "markdown",
   "source": [
    "3. Подсчет количества записей о фильмах"
   ],
   "metadata": {
    "collapsed": false
   }
  },
  {
   "cell_type": "code",
   "execution_count": 22,
   "outputs": [
    {
     "name": "stdout",
     "output_type": "stream",
     "text": [
      "Количество записей о фильмах: 9742\n"
     ]
    }
   ],
   "source": [
    "# Чистый SQL\n",
    "query = \"SELECT COUNT(*) FROM movie\"\n",
    "with psycopg_connection.cursor() as cursor:\n",
    "    cursor.execute(query)\n",
    "    movie_count = cursor.fetchone()\n",
    "    print(f\"Количество записей о фильмах: {movie_count[0]}\")"
   ],
   "metadata": {
    "collapsed": false
   }
  },
  {
   "cell_type": "code",
   "execution_count": 10,
   "outputs": [
    {
     "name": "stdout",
     "output_type": "stream",
     "text": [
      "Количество записей о фильмах: 9742\n"
     ]
    }
   ],
   "source": [
    "# SQLAlchemy\n",
    "movie_count = sqlalchemy_session.query(Movie).count()\n",
    "print(f\"Количество записей о фильмах: {movie_count}\")"
   ],
   "metadata": {
    "collapsed": false
   }
  },
  {
   "cell_type": "markdown",
   "source": [
    "## Задания:"
   ],
   "metadata": {
    "collapsed": false
   }
  },
  {
   "cell_type": "markdown",
   "source": [
    "1. Выдайте топ 10 фильмов с наибольшей средней оценкой"
   ],
   "metadata": {
    "collapsed": false
   }
  },
  {
   "cell_type": "code",
   "execution_count": null,
   "outputs": [],
   "source": [],
   "metadata": {
    "collapsed": false
   }
  },
  {
   "cell_type": "markdown",
   "source": [
    "2. Найдите все фильмы, у которых нет или индекса IMDB, или TMDB"
   ],
   "metadata": {
    "collapsed": false
   }
  },
  {
   "cell_type": "code",
   "execution_count": null,
   "outputs": [],
   "source": [],
   "metadata": {
    "collapsed": false
   }
  },
  {
   "cell_type": "markdown",
   "source": [
    "3. Найдите все фильмы, в названии которых употребляется слово `pirate` (регистр не имеет значение)."
   ],
   "metadata": {
    "collapsed": false
   }
  },
  {
   "cell_type": "code",
   "execution_count": null,
   "outputs": [],
   "source": [],
   "metadata": {
    "collapsed": false
   }
  },
  {
   "cell_type": "markdown",
   "source": [
    "4. Найдите теги, проставленные пользователями, которые употребляются наиболее часто"
   ],
   "metadata": {
    "collapsed": false
   }
  },
  {
   "cell_type": "code",
   "execution_count": null,
   "outputs": [],
   "source": [],
   "metadata": {
    "collapsed": false
   }
  },
  {
   "cell_type": "markdown",
   "source": [
    "5. Найдите фильм с наибольшим количеством тегов (выведите название фильма и список тегов)"
   ],
   "metadata": {
    "collapsed": false
   }
  },
  {
   "cell_type": "code",
   "execution_count": null,
   "outputs": [],
   "source": [],
   "metadata": {
    "collapsed": false
   }
  },
  {
   "cell_type": "markdown",
   "source": [
    "6. Найдите все фильмы, для которых нет ни одной оценки"
   ],
   "metadata": {
    "collapsed": false
   }
  },
  {
   "cell_type": "code",
   "execution_count": null,
   "outputs": [],
   "source": [],
   "metadata": {
    "collapsed": false
   }
  },
  {
   "cell_type": "markdown",
   "source": [
    "7. Найдите пользователей, которые чаще всего оставляли отзывы. Для таких пользователей найдите: среднюю, минимальную и\n",
    "максимальную оценки"
   ],
   "metadata": {
    "collapsed": false
   }
  },
  {
   "cell_type": "code",
   "execution_count": null,
   "outputs": [],
   "source": [],
   "metadata": {
    "collapsed": false
   }
  },
  {
   "cell_type": "markdown",
   "source": [
    "8. Из названия вычлените год и для каждого найдите количество фильмов. Выведите топ 10 годов, за которые выпустили\n",
    "наибольшее количество фильмов"
   ],
   "metadata": {
    "collapsed": false
   }
  },
  {
   "cell_type": "code",
   "execution_count": null,
   "outputs": [],
   "source": [],
   "metadata": {
    "collapsed": false
   }
  },
  {
   "cell_type": "markdown",
   "source": [
    "9. Для каждого года, найдите среднюю оценку фильмов. Изобразите соответствующий график изменений"
   ],
   "metadata": {
    "collapsed": false
   }
  },
  {
   "cell_type": "code",
   "execution_count": null,
   "outputs": [],
   "source": [],
   "metadata": {
    "collapsed": false
   }
  },
  {
   "cell_type": "markdown",
   "source": [
    "10. В таблице `uset_movie_rating` найдите топ 10 годов, за которые пользователи оставляли свои рейтинги"
   ],
   "metadata": {
    "collapsed": false
   }
  },
  {
   "cell_type": "code",
   "execution_count": null,
   "outputs": [],
   "source": [],
   "metadata": {
    "collapsed": false
   }
  },
  {
   "cell_type": "markdown",
   "source": [
    "11. Добавьте несколько новых фильмов в таблицу `movie`"
   ],
   "metadata": {
    "collapsed": false
   }
  },
  {
   "cell_type": "code",
   "execution_count": null,
   "outputs": [],
   "source": [],
   "metadata": {
    "collapsed": false
   }
  },
  {
   "cell_type": "markdown",
   "source": [
    "12. Измените у любой из записи какое-либо поле"
   ],
   "metadata": {
    "collapsed": false
   }
  },
  {
   "cell_type": "code",
   "execution_count": null,
   "outputs": [],
   "source": [],
   "metadata": {
    "collapsed": false
   }
  },
  {
   "cell_type": "markdown",
   "source": [
    "13. Удалите из базы данных фильм, у которого есть оценки от пользователей и теги"
   ],
   "metadata": {
    "collapsed": false
   }
  },
  {
   "cell_type": "code",
   "execution_count": null,
   "outputs": [],
   "source": [],
   "metadata": {
    "collapsed": false
   }
  },
  {
   "cell_type": "markdown",
   "source": [
    "14. (Сложно) Для оценок по годам найдите моду, медиану, 25-й и 75-й перцентили."
   ],
   "metadata": {
    "collapsed": false
   }
  },
  {
   "cell_type": "code",
   "execution_count": null,
   "outputs": [],
   "source": [],
   "metadata": {
    "collapsed": false
   }
  }
 ],
 "metadata": {
  "kernelspec": {
   "display_name": "Python 3",
   "language": "python",
   "name": "python3"
  },
  "language_info": {
   "codemirror_mode": {
    "name": "ipython",
    "version": 2
   },
   "file_extension": ".py",
   "mimetype": "text/x-python",
   "name": "python",
   "nbconvert_exporter": "python",
   "pygments_lexer": "ipython2",
   "version": "2.7.6"
  }
 },
 "nbformat": 4,
 "nbformat_minor": 0
}

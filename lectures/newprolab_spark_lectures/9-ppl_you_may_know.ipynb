{
 "cells": [
  {
   "cell_type": "markdown",
   "metadata": {
    "slideshow": {
     "slide_type": "slide"
    }
   },
   "source": [
    "## Проверяем размеры"
   ]
  },
  {
   "cell_type": "code",
   "execution_count": null,
   "metadata": {},
   "outputs": [],
   "source": [
    "!ls -la ./trainGraph/"
   ]
  },
  {
   "cell_type": "code",
   "execution_count": null,
   "metadata": {},
   "outputs": [],
   "source": [
    "!head ./trainGraph/part-r-00000"
   ]
  },
  {
   "cell_type": "code",
   "execution_count": null,
   "metadata": {},
   "outputs": [],
   "source": [
    "!head ./coreDemography/part-r-00000"
   ]
  },
  {
   "cell_type": "code",
   "execution_count": null,
   "metadata": {},
   "outputs": [],
   "source": [
    "!ls -lh ./trainGraph/part-r-00000"
   ]
  },
  {
   "cell_type": "code",
   "execution_count": null,
   "metadata": {},
   "outputs": [],
   "source": [
    "!ls -lh ./trainGraph/"
   ]
  },
  {
   "cell_type": "markdown",
   "metadata": {
    "slideshow": {
     "slide_type": "fragment"
    }
   },
   "source": [
    "__27 * 16 = 432 мегабайта - piece of cake!__"
   ]
  },
  {
   "cell_type": "markdown",
   "metadata": {
    "slideshow": {
     "slide_type": "fragment"
    }
   },
   "source": [
    "### Применительно к нашей задаче\n",
    "\n",
    "* Первый прогноз можно построить по счетчику общих друзей\n",
    "* Выданный граф не симетричный\n"
   ]
  },
  {
   "cell_type": "markdown",
   "metadata": {},
   "source": [
    "<img src=\"pics/asymmetrical_graph.jpg\" width=700/>"
   ]
  },
  {
   "cell_type": "markdown",
   "metadata": {},
   "source": [
    "<img src=\"pics/asymmetrical_graph_4.jpg\" width=700/>"
   ]
  },
  {
   "cell_type": "markdown",
   "metadata": {
    "slideshow": {
     "slide_type": "slide"
    }
   },
   "source": [
    "## Попытка №1\n",
    "\n",
    "Рекомендуем в качестве друзей тех, у кого много общих друзей с выбранным пользователем. Для этого втягиваем в память словарь вида [таргет пользователь -> его друзья], и его же в \"развернутом виде\" [друг ->таргет пользователи, у которых он в друзьях]\n",
    "\n",
    "### Готовим окружение"
   ]
  },
  {
   "cell_type": "code",
   "execution_count": 1,
   "metadata": {
    "slideshow": {
     "slide_type": "fragment"
    }
   },
   "outputs": [],
   "source": [
    "import csv, gzip, os, random, numpy, math, timeit, copy, psutil\n",
    "\n",
    "from collections import defaultdict\n",
    "\n",
    "# Пути к данным\n",
    "dataPath = \"./\"\n",
    "graphPath = os.path.join(dataPath, \"trainGraph\")\n",
    "demographyPath = os.path.join(dataPath, \"coreDemography\")\n",
    "csv.field_size_limit(200000)\n",
    "\n",
    "# Утилита для замера памяти\n",
    "def memory_usage():\n",
    "    process = psutil.Process(os.getpid())\n",
    "    print(\"Memory usage {0!s} mb.\".format(process.memory_info()[0] / 1024 / 1024))"
   ]
  },
  {
   "cell_type": "markdown",
   "metadata": {
    "slideshow": {
     "slide_type": "slide"
    }
   },
   "source": [
    "## Попытка №1 - читаем данные"
   ]
  },
  {
   "cell_type": "code",
   "execution_count": null,
   "metadata": {},
   "outputs": [],
   "source": [
    "%%time\n",
    "mineFriends = defaultdict(list)\n",
    "friendsOfMine = defaultdict(list)\n",
    "\n",
    "# Итерируемся по файлам в папке\n",
    "for file in [f for f in os.listdir(graphPath) if f.endswith(\"gz\")]:\n",
    "    csv_reader = csv.reader(gzip.open(os.path.join(graphPath, file), \"rt\"), delimiter='\\t')\n",
    "    # А теперь по строкам в файле\n",
    "    for line in csv_reader:\n",
    "        user = int(line[0]) \n",
    "        # Разбираем идшки и маски друзей\n",
    "        for friendship in line[1].replace(\"{(\", \"\").replace(\")}\", \"\").split(\"),(\"):\n",
    "            parts = friendship.split(\",\")\n",
    "            friend = int(parts[0])\n",
    "            mineFriends[user] += [friend]\n",
    "            friendsOfMine[friend] += [user]"
   ]
  },
  {
   "cell_type": "markdown",
   "metadata": {
    "slideshow": {
     "slide_type": "slide"
    }
   },
   "source": [
    "## Попытка №1 - тревожные сигналы\n",
    "\n",
    "2 минуты на загрузку 432 мегабайт явно долговато, а что по памяти?"
   ]
  },
  {
   "cell_type": "code",
   "execution_count": null,
   "metadata": {},
   "outputs": [],
   "source": [
    "memory_usage()"
   ]
  },
  {
   "cell_type": "markdown",
   "metadata": {
    "slideshow": {
     "slide_type": "fragment"
    }
   },
   "source": [
    "Итого два словарика в памяти __уже__ заняли больше трех гигабайт и дальше ворочать их будет неудобно. Но поробуем..."
   ]
  },
  {
   "cell_type": "markdown",
   "metadata": {
    "slideshow": {
     "slide_type": "slide"
    }
   },
   "source": [
    "## Попытка №1 - пробуем расчет"
   ]
  },
  {
   "cell_type": "code",
   "execution_count": null,
   "metadata": {},
   "outputs": [],
   "source": [
    "%%time\n",
    "friendsOfFriends = defaultdict(lambda: defaultdict(int))\n",
    "\n",
    "for (user, friends) in mineFriends.items():\n",
    "    for friend in friends:\n",
    "        for theirFriend in friendsOfMine[friend]:\n",
    "            friendsOfFriends[user][theirFriend] += 1"
   ]
  },
  {
   "cell_type": "markdown",
   "metadata": {
    "slideshow": {
     "slide_type": "slide"
    }
   },
   "source": [
    "## Попытка №1 - работа над ошибками"
   ]
  },
  {
   "cell_type": "code",
   "execution_count": 2,
   "metadata": {},
   "outputs": [
    {
     "name": "stdout",
     "output_type": "stream",
     "text": [
      "Memory usage 62.76171875 mb.\n"
     ]
    }
   ],
   "source": [
    "memory_usage()"
   ]
  },
  {
   "cell_type": "markdown",
   "metadata": {
    "slideshow": {
     "slide_type": "fragment"
    }
   },
   "source": [
    "### Применительно к нашей задаче\n",
    "\n",
    "* Оценим объем данных\n",
    "* Не забудем о накладных расходах!"
   ]
  },
  {
   "cell_type": "markdown",
   "metadata": {
    "slideshow": {
     "slide_type": "slide"
    }
   },
   "source": [
    "## Разбор полетов - исследуем данные\n",
    "\n",
    "Подумаем о том, как использовать память эффективнее. Для начала давайте попробуем прикинуть базовые показатели графа с которым работаем."
   ]
  },
  {
   "cell_type": "code",
   "execution_count": 3,
   "metadata": {},
   "outputs": [],
   "source": [
    "import csv, gzip, os, random, numpy, math, timeit, copy, psutil\n",
    "\n",
    "from collections import defaultdict\n",
    "\n",
    "# Пути к данным\n",
    "dataPath = \"./\"\n",
    "graphPath = os.path.join(dataPath, \"trainGraph\")\n",
    "demographyPath = os.path.join(dataPath, \"CoreDemography\")\n",
    "csv.field_size_limit(200000)\n",
    "\n",
    "# Утилитка для замера памяти\n",
    "def memory_usage():\n",
    "    process = psutil.Process(os.getpid())\n",
    "    print(\"Memory usage {0!s} mb.\".format(process.memory_info()[0] / 1024 / 1024))"
   ]
  },
  {
   "cell_type": "code",
   "execution_count": 4,
   "metadata": {
    "slideshow": {
     "slide_type": "slide"
    }
   },
   "outputs": [
    {
     "name": "stdout",
     "output_type": "stream",
     "text": [
      "Num users from 107474, max 16619036, num total 12417564, max 16619131, num links 36192484\n"
     ]
    }
   ],
   "source": [
    "numUsersFrom = 0\n",
    "numLinks = 0\n",
    "maxUserIdFrom = 0\n",
    "maxUserIdTo = 0\n",
    "allIds = set()\n",
    "\n",
    "for file in [f for f in os.listdir(graphPath) if f.endswith(\"gz\")]:\n",
    "    csv_reader = csv.reader(gzip.open(os.path.join(graphPath, file), \"rt\"), delimiter='\\t')\n",
    "    for line in csv_reader:\n",
    "        user = int(line[0])\n",
    "        numUsersFrom += 1\n",
    "        maxUserIdFrom = max(user, maxUserIdFrom)\n",
    "        allIds.add(user)\n",
    "        for friendship in line[1].replace(\"{(\", \"\").replace(\")}\", \"\").split(\"),(\"):\n",
    "            parts = friendship.split(\",\")\n",
    "            friend = int(parts[0])\n",
    "            allIds.add(friend)\n",
    "            numLinks += 1\n",
    "            maxUserIdTo = max(maxUserIdTo, friend)\n",
    "            \n",
    "print(\"Num users from {0}, max {1}, num total {2}, max {3}, num links {4}\".format(\n",
    "        numUsersFrom, maxUserIdFrom, len(allIds), maxUserIdTo, numLinks))"
   ]
  },
  {
   "cell_type": "markdown",
   "metadata": {
    "slideshow": {
     "slide_type": "slide"
    }
   },
   "source": [
    "### Оценим объем нужной памяти\n",
    "\n",
    "На одну связь надо 2 айдишки, которые 4-х байтовый инт"
   ]
  },
  {
   "cell_type": "code",
   "execution_count": 5,
   "metadata": {},
   "outputs": [
    {
     "data": {
      "text/plain": [
       "276.1267395019531"
      ]
     },
     "execution_count": 5,
     "metadata": {},
     "output_type": "execute_result"
    }
   ],
   "source": [
    "numLinks * (4 + 4) / 1024 / 1024"
   ]
  },
  {
   "cell_type": "markdown",
   "metadata": {
    "slideshow": {
     "slide_type": "fragment"
    }
   },
   "source": [
    "__Почему вместо 276Мб мы получили сразу 3Гб? Почему??!!__"
   ]
  },
  {
   "cell_type": "markdown",
   "metadata": {
    "slideshow": {
     "slide_type": "slide"
    }
   },
   "source": [
    "## Разбор полетов - смотрим в код python'а\n",
    "\n",
    "```c\n",
    "#define PyDict_MINSIZE 8\n",
    "typedef struct _dictobject PyDictObject;\n",
    "struct _dictobject {\n",
    "  ...\n",
    "  PyDictEntry *ma_table;\n",
    "  ...\n",
    "};\n",
    "\n",
    "typedef struct {\n",
    "  Py_ssize_t me_hash;\n",
    "  PyObject *me_key;\n",
    "  PyObject *me_value;\n",
    "} PyDictEntry;\n",
    "```"
   ]
  },
  {
   "cell_type": "markdown",
   "metadata": {
    "slideshow": {
     "slide_type": "slide"
    }
   },
   "source": [
    "## Хэш-таблица с открытой адресацией\n",
    "\n",
    "<img src=\"https://upload.wikimedia.org/wikipedia/commons/b/bf/Hash_table_5_0_1_1_1_1_0_SP.svg\" width=\"800\" />"
   ]
  },
  {
   "cell_type": "markdown",
   "metadata": {
    "slideshow": {
     "slide_type": "slide"
    }
   },
   "source": [
    "## Разбор полетов - считаем накладные расходы\n",
    "\n",
    "* На запись\n",
    "  * +8 байт на указатель на запись (PyDictEntry)\n",
    "  * +4 байта на хэш\n",
    "  * +8*2 байтов на указатели на ключ/значение\n",
    "* +30% свободных ячеек\n",
    "* х2 свободных ячеек при копировании"
   ]
  },
  {
   "cell_type": "code",
   "execution_count": 6,
   "metadata": {},
   "outputs": [
    {
     "data": {
      "text/plain": [
       "1960.4998504638672"
      ]
     },
     "execution_count": 6,
     "metadata": {},
     "output_type": "execute_result"
    }
   ],
   "source": [
    "(numLinks * ((4 + 4) + (8 + 4 + 16)) + 1.3 * 2 * 8 * numLinks) / 1024 / 1024"
   ]
  },
  {
   "cell_type": "markdown",
   "metadata": {
    "slideshow": {
     "slide_type": "fragment"
    }
   },
   "source": [
    "Становится яснее!"
   ]
  },
  {
   "cell_type": "markdown",
   "metadata": {},
   "source": [
    "## А ведь есть еще вопрос локальности данных!"
   ]
  },
  {
   "cell_type": "markdown",
   "metadata": {
    "slideshow": {
     "slide_type": "slide"
    }
   },
   "source": [
    "\n",
    "<center>\n",
    "<img src=\"https://upload.wikimedia.org/wikipedia/commons/thumb/e/e5/Von_Neumann_Architecture.svg/800px-Von_Neumann_Architecture.svg.png\" width=\"600\"/>\n",
    "</center>\n",
    "\n",
    "\n",
    "<center>\n",
    "<img src=\"https://s3.amazonaws.com/media-p.slid.es/uploads/71982/images/2310246/figure04-caching-pyramid.png\" width=\"600\"/>\n",
    "</center>\n",
    "\n",
    "\n",
    "| Source   | Latency       |\n",
    "| ---------|:-------------:|\n",
    "| L1 Cache |  1-2 ns       |\n",
    "| L2 Cache |  3-5 ns       |\n",
    "| L3 Cache |  10-40 ns     |\n",
    "| DRAM     |  60-100 ns    |\n",
    "\n"
   ]
  },
  {
   "cell_type": "markdown",
   "metadata": {
    "slideshow": {
     "slide_type": "slide"
    }
   },
   "source": [
    "## Боксинг\n",
    "```c\n",
    "#define PyObject_HEAD                   \\\n",
    "    _PyObject_HEAD_EXTRA                \\\n",
    "    Py_ssize_t ob_refcnt;               \\\n",
    "    struct _typeobject *ob_type;\n",
    "\n",
    "typedef struct {\n",
    "    PyObject_HEAD\n",
    "    long ob_ival;\n",
    "} PyIntObject;\n",
    "```"
   ]
  },
  {
   "cell_type": "markdown",
   "metadata": {
    "slideshow": {
     "slide_type": "fragment"
    }
   },
   "source": [
    "Кладя инт в \"коробку\" получаем 20 байт вместо 4-х, итого:"
   ]
  },
  {
   "cell_type": "code",
   "execution_count": 7,
   "metadata": {},
   "outputs": [
    {
     "data": {
      "text/plain": [
       "3065.0068084716795"
      ]
     },
     "execution_count": 7,
     "metadata": {},
     "output_type": "execute_result"
    }
   ],
   "source": [
    "(numLinks * ((20 + 20) + (8 + 4 + 16)) + 1.3 * 2 * 8 * numLinks) / 1024 / 1024"
   ]
  },
  {
   "cell_type": "markdown",
   "metadata": {
    "slideshow": {
     "slide_type": "slide"
    }
   },
   "source": [
    "## Все ли проблемы вскрыли?"
   ]
  },
  {
   "cell_type": "markdown",
   "metadata": {
    "slideshow": {
     "slide_type": "fragment"
    }
   },
   "source": [
    "__Проблема заполнености__ - общие друзья есть у гораздо большего числа пар пользователей, чем пар пользователей, напрямую связанных дружбой"
   ]
  },
  {
   "cell_type": "code",
   "execution_count": 8,
   "metadata": {},
   "outputs": [
    {
     "data": {
      "text/plain": [
       "44062.273696899414"
      ]
     },
     "execution_count": 8,
     "metadata": {},
     "output_type": "execute_result"
    }
   ],
   "source": [
    "numUsersFrom * numUsersFrom * 4 / 1024 / 1024"
   ]
  },
  {
   "cell_type": "code",
   "execution_count": 9,
   "metadata": {},
   "outputs": [
    {
     "data": {
      "text/plain": [
       "494384765625.0"
      ]
     },
     "execution_count": 9,
     "metadata": {},
     "output_type": "execute_result"
    }
   ],
   "source": [
    "360000000 * 360000000 * 4 / 1024 / 1024"
   ]
  },
  {
   "cell_type": "markdown",
   "metadata": {
    "slideshow": {
     "slide_type": "fragment"
    }
   },
   "source": [
    "### Применительно к нашей задаче\n",
    "\n",
    "* Считаем общих друзей только там, где это нужно (входят в тестовое множество)"
   ]
  },
  {
   "cell_type": "markdown",
   "metadata": {
    "slideshow": {
     "slide_type": "slide"
    }
   },
   "source": [
    "## Попытка №2\n",
    "\n",
    "* Выбираем структуру данных\n",
    "* Втягиваем правильно\n",
    "* Считаем общих друзей для юзеров из тестового множества\n",
    "* Профит!"
   ]
  },
  {
   "cell_type": "markdown",
   "metadata": {
    "slideshow": {
     "slide_type": "slide"
    }
   },
   "source": [
    "## Выбираем структуры данных"
   ]
  },
  {
   "cell_type": "markdown",
   "metadata": {
    "slideshow": {
     "slide_type": "subslide"
    }
   },
   "source": [
    "### Словари\n",
    "\n",
    "* Легко пользоватся.\n",
    "* Но _ОЧЕНЬ_ много накладных расходов: указатель на запись, указатель на ключ/значение, объектная обертка для ключа и значения.\n",
    "* Итого: на пару инт-инт _накладных_ расходов 48 байт.\n",
    "* Данные размазаны по памяти и фрагментированны - кеш процессора резко терят эффективность."
   ]
  },
  {
   "cell_type": "markdown",
   "metadata": {
    "slideshow": {
     "slide_type": "slide"
    }
   },
   "source": [
    "### Списки\n",
    "\n",
    "* Если ключ инт - можно использовать вместо словаря, как список списков\n",
    "* НО! Список в питоне это массив указателей, а значит накладные расходы на указатель и объектную обертку ключа. остаются - 20 байт накладных расходов на запись :(.\n",
    "* Проблема с потерей эффективности кеша сохраняется."
   ]
  },
  {
   "cell_type": "markdown",
   "metadata": {
    "slideshow": {
     "slide_type": "subslide"
    }
   },
   "source": [
    "### Массивы numpy\n",
    "\n",
    "* На пару инт-инт нужно всего 4 байта.\n",
    "* Кеш процессора работает.\n",
    "* Но нужно чтобы ключи шли последовательно (к счастью, в наших даных это так почти так: максимальный ид 16619131 при общем числе 12417564).\n",
    "* Для того чтобы заполнить массив нужно знать его размер изначально.\n",
    "* Если делать двумерный массив 100к на 16м - будет очень, очень, очень больно..."
   ]
  },
  {
   "cell_type": "markdown",
   "metadata": {
    "slideshow": {
     "slide_type": "subslide"
    }
   },
   "source": [
    "### Спарс матрицы scipy\n",
    "\n",
    "* Предназначены для хранения двухмерных матриц с очень большим количеством нулей.\n",
    "* Эффективные варианты хранят в виде нескольких массивов numpy.\n",
    "* COO - три массива одинаковой длинны моделируют списов троек [(i,j,v)]. Просто строить, легко интегрировать с пандой.\n",
    "* CSR - один маленьки массив с индексом начала для каждого ряда (монотонно растет), и два массива равно длинны с ид колонки и значением: [{i : [(j,v)]}]. Более компактна в памяти, быстрые опреации.\n",
    "* CSC - тоже самое что CSR, но индексированны колонки."
   ]
  },
  {
   "cell_type": "markdown",
   "metadata": {
    "slideshow": {
     "slide_type": "subslide"
    }
   },
   "source": [
    "#### CSR matrix\n",
    "<img src=\"http://hamukazu.com/wp-content/uploads/2014/12/csr_matrix.png\" width=\"800\"/>\n",
    "\n",
    "#### CSC matrix\n",
    "<img src=\"http://hamukazu.com/wp-content/uploads/2014/12/csc_matrix2.png\" width=\"800\"/>"
   ]
  },
  {
   "cell_type": "markdown",
   "metadata": {
    "slideshow": {
     "slide_type": "slide"
    }
   },
   "source": [
    "## Попытка № 2 - наш выбор\n",
    "\n",
    "* Инициализруем граф в виде COO матрицы, затем переводим в CSR.\n",
    "* Развернутый граф получаем с помощью транспонирования.\n",
    "* Общих друзей считаем умножая матрицы."
   ]
  },
  {
   "cell_type": "markdown",
   "metadata": {
    "slideshow": {
     "slide_type": "fragment"
    }
   },
   "source": [
    "#### Умножение матриц? WTF?\n"
   ]
  },
  {
   "cell_type": "markdown",
   "metadata": {},
   "source": [
    "<img src=\"pics/matrix_mult.jpg\" width=700/>"
   ]
  },
  {
   "cell_type": "markdown",
   "metadata": {
    "slideshow": {
     "slide_type": "slide"
    }
   },
   "source": [
    "## Попытка №2 - готовим окружение"
   ]
  },
  {
   "cell_type": "code",
   "execution_count": 10,
   "metadata": {
    "slideshow": {
     "slide_type": "-"
    }
   },
   "outputs": [],
   "source": [
    "# Почистим не нужное и оставим константы чтоб потом не пресчитывать\n",
    "del allIds\n",
    "maxUserId = 16619131\n",
    "numLinks = 38031656"
   ]
  },
  {
   "cell_type": "code",
   "execution_count": 11,
   "metadata": {},
   "outputs": [],
   "source": [
    "import numpy\n",
    "# Работа с матрицами (подсчет общих друзей реализован как умножение матрицы графа \n",
    "# самое на себя)\n",
    "import scipy\n",
    "from scipy.sparse import coo_matrix, csr_matrix"
   ]
  },
  {
   "cell_type": "markdown",
   "metadata": {
    "slideshow": {
     "slide_type": "slide"
    }
   },
   "source": [
    "## Попытка №2 - читаем матрицу"
   ]
  },
  {
   "cell_type": "code",
   "execution_count": 12,
   "metadata": {},
   "outputs": [],
   "source": [
    "fromUser = numpy.zeros((numLinks), dtype=numpy.int32) \n",
    "toUser = numpy.zeros((numLinks), dtype=numpy.int32) \n",
    "data = numpy.ones((numLinks), dtype=numpy.int16) \n",
    "\n",
    "current = 0\n",
    "\n",
    "# Итерируемся по файлам в папке... \n",
    "for file in [f for f in os.listdir(graphPath) if f.endswith(\"gz\")]:\n",
    "    csv_reader = csv.reader(gzip.open(os.path.join(graphPath, file), \"rt\"), delimiter='\\t')\n",
    "\n",
    "    for line in csv_reader:\n",
    "        user = int(line[0]) \n",
    "        maxUserId = max(user, maxUserId)\n",
    "        # Разбираем идшки и маски друзей\n",
    "        for friendship in line[1].replace(\"{(\", \"\").replace(\")}\", \"\").split(\"),(\"):\n",
    "            parts = friendship.split(\",\")\n",
    "            # Записываем связь в массивы и двигаем указатель\n",
    "            fromUser[current] = user\n",
    "            friend = int(parts[0])\n",
    "            toUser[current] = friend\n",
    "            maxUserId = max(friend, maxUserId)\n",
    "            current += 1\n",
    "            "
   ]
  },
  {
   "cell_type": "markdown",
   "metadata": {},
   "source": [
    "Собственно из массивов создаем COO матрицу"
   ]
  },
  {
   "cell_type": "code",
   "execution_count": 13,
   "metadata": {
    "slideshow": {
     "slide_type": "-"
    }
   },
   "outputs": [],
   "source": [
    "fullMatrix = coo_matrix(\n",
    "    (data, (fromUser, toUser)),\n",
    "    shape=(maxUserId + 1, maxUserId + 1)).tocsr()"
   ]
  },
  {
   "cell_type": "markdown",
   "metadata": {
    "slideshow": {
     "slide_type": "fragment"
    }
   },
   "source": [
    "В матрице три массива, соответственно легко померять сколько памяти она занимает"
   ]
  },
  {
   "cell_type": "code",
   "execution_count": 14,
   "metadata": {},
   "outputs": [
    {
     "data": {
      "text/plain": [
       "270.49202156066895"
      ]
     },
     "execution_count": 14,
     "metadata": {},
     "output_type": "execute_result"
    }
   ],
   "source": [
    "(fullMatrix.data.nbytes + fullMatrix.indptr.nbytes + fullMatrix.indices.nbytes) / (1024 * 1024)"
   ]
  },
  {
   "cell_type": "code",
   "execution_count": 15,
   "metadata": {},
   "outputs": [
    {
     "data": {
      "text/plain": [
       "362.69813537597656"
      ]
     },
     "execution_count": 15,
     "metadata": {},
     "output_type": "execute_result"
    }
   ],
   "source": [
    "(fromUser.nbytes + toUser.nbytes + data.nbytes) / (1024 * 1024)"
   ]
  },
  {
   "cell_type": "markdown",
   "metadata": {
    "slideshow": {
     "slide_type": "fragment"
    }
   },
   "source": [
    "Теперь аккуратно вычистим ненужное"
   ]
  },
  {
   "cell_type": "code",
   "execution_count": 16,
   "metadata": {},
   "outputs": [],
   "source": [
    "del fromUser\n",
    "del toUser\n",
    "del data  "
   ]
  },
  {
   "cell_type": "markdown",
   "metadata": {
    "slideshow": {
     "slide_type": "slide"
    }
   },
   "source": [
    "## Попытка №2 - считаем общих друзей для пользователей, по которым необходимо сформировать предсказание"
   ]
  },
  {
   "cell_type": "code",
   "execution_count": 17,
   "metadata": {},
   "outputs": [],
   "source": [
    "targetUsers = set()\n",
    "csv_reader = csv.reader(open(os.path.join(dataPath, \"prediction.csv\")))\n",
    "for line in csv_reader: \n",
    "    targetUsers.add(int(line[0]))"
   ]
  },
  {
   "cell_type": "code",
   "execution_count": 18,
   "metadata": {},
   "outputs": [
    {
     "data": {
      "text/plain": [
       "{7503877,\n",
       " 12713994,\n",
       " 2523154,\n",
       " 4915225,\n",
       " 3375137,\n",
       " 1638435,\n",
       " 3178534,\n",
       " 16613417,\n",
       " 8683583,\n",
       " 8552529,\n",
       " 9109591,\n",
       " 327774,\n",
       " 1572963,\n",
       " 2392166,\n",
       " 3145831,\n",
       " 10059881,\n",
       " 1998960,\n",
       " 2064509,\n",
       " 1376382,\n",
       " 11468926,\n",
       " 5406848,\n",
       " 8355970,\n",
       " 13860997,\n",
       " 3440774,\n",
       " 2490506,\n",
       " 5898383,\n",
       " 13271188,\n",
       " 3473565,\n",
       " 1015967,\n",
       " 1802401,\n",
       " 1900708,\n",
       " 10223781,\n",
       " 1343657,\n",
       " 3145897,\n",
       " 15302833,\n",
       " 7635129,\n",
       " 3408060,\n",
       " 4587711,\n",
       " 6815937,\n",
       " 5701835,\n",
       " 3571916,\n",
       " 884957,\n",
       " 10289374,\n",
       " 2031839,\n",
       " 1966312,\n",
       " 3408104,\n",
       " 4260076,\n",
       " 2883822,\n",
       " 1999092,\n",
       " 7110902,\n",
       " 10780920,\n",
       " 9797883,\n",
       " 4817149,\n",
       " 14221566,\n",
       " 5013763,\n",
       " 9109767,\n",
       " 5636363,\n",
       " 11239697,\n",
       " 688409,\n",
       " 2162970,\n",
       " 4784424,\n",
       " 4817193,\n",
       " 4489514,\n",
       " 9535786,\n",
       " 622893,\n",
       " 5275959,\n",
       " 5996855,\n",
       " 6783289,\n",
       " 2556220,\n",
       " 9208129,\n",
       " 1442118,\n",
       " 9732422,\n",
       " 426312,\n",
       " 10453318,\n",
       " 6750542,\n",
       " 14319950,\n",
       " 9339216,\n",
       " 229720,\n",
       " 7471449,\n",
       " 4981082,\n",
       " 3637597,\n",
       " 393576,\n",
       " 885100,\n",
       " 1245548,\n",
       " 5276014,\n",
       " 5112180,\n",
       " 7307648,\n",
       " 2032004,\n",
       " 885144,\n",
       " 5570968,\n",
       " 2097564,\n",
       " 10224034,\n",
       " 2556330,\n",
       " 5505452,\n",
       " 5898669,\n",
       " 5243311,\n",
       " 10420659,\n",
       " 4325812,\n",
       " 6259128,\n",
       " 5964218,\n",
       " 15008187,\n",
       " 10289605,\n",
       " 4686282,\n",
       " 2982349,\n",
       " 5505485,\n",
       " 9961937,\n",
       " 9077207,\n",
       " 7012826,\n",
       " 11469278,\n",
       " 5734879,\n",
       " 10813920,\n",
       " 5079521,\n",
       " 950759,\n",
       " 9961959,\n",
       " 15368679,\n",
       " 4882929,\n",
       " 5341684,\n",
       " 14057974,\n",
       " 10027519,\n",
       " 13369858,\n",
       " 15008264,\n",
       " 6062602,\n",
       " 4030990,\n",
       " 6193678,\n",
       " 11633178,\n",
       " 2654747,\n",
       " 8946208,\n",
       " 11502113,\n",
       " 950825,\n",
       " 16286277,\n",
       " 12026450,\n",
       " 12419667,\n",
       " 14910034,\n",
       " 15073879,\n",
       " 655970,\n",
       " 3474027,\n",
       " 4194934,\n",
       " 6816377,\n",
       " 9765499,\n",
       " 1966719,\n",
       " 1344130,\n",
       " 6455940,\n",
       " 9798290,\n",
       " 6619796,\n",
       " 7733909,\n",
       " 3080854,\n",
       " 8225433,\n",
       " 4883105,\n",
       " 1475239,\n",
       " 4031144,\n",
       " 6750894,\n",
       " 1802940,\n",
       " 7013057,\n",
       " 16417474,\n",
       " 5997251,\n",
       " 7439043,\n",
       " 328390,\n",
       " 13730504,\n",
       " 7668426,\n",
       " 4326098,\n",
       " 3801816,\n",
       " 15925983,\n",
       " 9601764,\n",
       " 983781,\n",
       " 4063979,\n",
       " 1835764,\n",
       " 2589429,\n",
       " 15794940,\n",
       " 6783751,\n",
       " 819980,\n",
       " 5702418,\n",
       " 9765653,\n",
       " 4752150,\n",
       " 12649237,\n",
       " 10224408,\n",
       " 7013145,\n",
       " 9995036,\n",
       " 4621085,\n",
       " 14713629,\n",
       " 12321569,\n",
       " 10289957,\n",
       " 11043622,\n",
       " 2818856,\n",
       " 13992744,\n",
       " 1934126,\n",
       " 13894448,\n",
       " 7504691,\n",
       " 15827764,\n",
       " 14549817,\n",
       " 13173563,\n",
       " 6161217,\n",
       " 6554434,\n",
       " 1901379,\n",
       " 11699013,\n",
       " 16286541,\n",
       " 12157779,\n",
       " 12026714,\n",
       " 5309278,\n",
       " 2786164,\n",
       " 9274228,\n",
       " 9864059,\n",
       " 16122762,\n",
       " 4490130,\n",
       " 8225686,\n",
       " 8586134,\n",
       " 11895704,\n",
       " 7635866,\n",
       " 492444,\n",
       " 6980519,\n",
       " 6718378,\n",
       " 9896883,\n",
       " 12813236,\n",
       " 13403067,\n",
       " 11404224,\n",
       " 1147857,\n",
       " 3113942,\n",
       " 14910430,\n",
       " 10650592,\n",
       " 3965925,\n",
       " 6161382,\n",
       " 3441654,\n",
       " 3867640,\n",
       " 2458617,\n",
       " 5538815,\n",
       " 14222336,\n",
       " 5080071,\n",
       " 1180681,\n",
       " 13173794,\n",
       " 2556968,\n",
       " 12059692,\n",
       " 5964845,\n",
       " 9536567,\n",
       " 2458694,\n",
       " 9110603,\n",
       " 1213516,\n",
       " 5243982,\n",
       " 2524254,\n",
       " 9438304,\n",
       " 15991906,\n",
       " 4916325,\n",
       " 2131048,\n",
       " 2884713,\n",
       " 4686953,\n",
       " 9110636,\n",
       " 7046255,\n",
       " 3507313,\n",
       " 3703927,\n",
       " 6390908,\n",
       " 6751356,\n",
       " 15762556,\n",
       " 4228264,\n",
       " 9340074,\n",
       " 3703982,\n",
       " 6980783,\n",
       " 2983097,\n",
       " 9831631,\n",
       " 12453074,\n",
       " 4588756,\n",
       " 4031705,\n",
       " 13173981,\n",
       " 5113071,\n",
       " 6292722,\n",
       " 4195572,\n",
       " 10716405,\n",
       " 11830518,\n",
       " 2163960,\n",
       " 2524430,\n",
       " 1508624,\n",
       " 3015954,\n",
       " 1279252,\n",
       " 2229531,\n",
       " 6227228,\n",
       " 10716449,\n",
       " 4916523,\n",
       " 3212590,\n",
       " 2196784,\n",
       " 5080368,\n",
       " 4130100,\n",
       " 8455476,\n",
       " 4916534,\n",
       " 6358326,\n",
       " 5440827,\n",
       " 9045307,\n",
       " 2262344,\n",
       " 5145928,\n",
       " 3802443,\n",
       " 4982094,\n",
       " 12748116,\n",
       " 13534550,\n",
       " 11765079,\n",
       " 5670232,\n",
       " 7865689,\n",
       " 12158296,\n",
       " 7669086,\n",
       " 3212645,\n",
       " 3507577,\n",
       " 15435130,\n",
       " 2033027,\n",
       " 3179909,\n",
       " 5866890,\n",
       " 16057741,\n",
       " 5014929,\n",
       " 722322,\n",
       " 2557331,\n",
       " 3409303,\n",
       " 9635226,\n",
       " 7308704,\n",
       " 9504161,\n",
       " 14091689,\n",
       " 14255534,\n",
       " 10356155,\n",
       " 14583235,\n",
       " 3933640,\n",
       " 5506508,\n",
       " 2754000,\n",
       " 5080533,\n",
       " 10520022,\n",
       " 12387811,\n",
       " 15107561,\n",
       " 2819582,\n",
       " 9405953,\n",
       " 8029699,\n",
       " 10225156,\n",
       " 7767558,\n",
       " 14648850,\n",
       " 2131477,\n",
       " 13207069,\n",
       " 4490790,\n",
       " 2393640,\n",
       " 624169,\n",
       " 13993514,\n",
       " 820783,\n",
       " 12944950,\n",
       " 2000445,\n",
       " 5637705,\n",
       " 1214033,\n",
       " 13895251,\n",
       " 15730260,\n",
       " 4032090,\n",
       " 1246813,\n",
       " 5244510,\n",
       " 15107693,\n",
       " 5047918,\n",
       " 3278447,\n",
       " 3343985,\n",
       " 4097650,\n",
       " 10978931,\n",
       " 4163188,\n",
       " 7046772,\n",
       " 3540599,\n",
       " 10749559,\n",
       " 3573379,\n",
       " 9537161,\n",
       " 8521355,\n",
       " 5670540,\n",
       " 12289680,\n",
       " 4032145,\n",
       " 10159761,\n",
       " 11404950,\n",
       " 16549529,\n",
       " 3278491,\n",
       " 12027550,\n",
       " 4523680,\n",
       " 15042221,\n",
       " 67250,\n",
       " 4490933,\n",
       " 12715710,\n",
       " 8881858,\n",
       " 4458186,\n",
       " 2393805,\n",
       " 12224219,\n",
       " 7898865,\n",
       " 4425461,\n",
       " 296699,\n",
       " 1738491,\n",
       " 1804029,\n",
       " 1476350,\n",
       " 6424315,\n",
       " 8947451,\n",
       " 8619772,\n",
       " 16090884,\n",
       " 2197257,\n",
       " 12158736,\n",
       " 657169,\n",
       " 1967896,\n",
       " 3507995,\n",
       " 3933981,\n",
       " 4359967,\n",
       " 6555424,\n",
       " 132898,\n",
       " 919332,\n",
       " 4523812,\n",
       " 1771304,\n",
       " 1967918,\n",
       " 4818744,\n",
       " 11044667,\n",
       " 6063933,\n",
       " 13600583,\n",
       " 2492233,\n",
       " 4392780,\n",
       " 5867341,\n",
       " 1345362,\n",
       " 6915927,\n",
       " 14288732,\n",
       " 9275240,\n",
       " 3311469,\n",
       " 1640305,\n",
       " 7145332,\n",
       " 1214330,\n",
       " 1640316,\n",
       " 5572486,\n",
       " 5605255,\n",
       " 10323848,\n",
       " 2131851,\n",
       " 755597,\n",
       " 3082130,\n",
       " 3966871,\n",
       " 5310367,\n",
       " 5736353,\n",
       " 14419885,\n",
       " 9537458,\n",
       " 6686643,\n",
       " 7767987,\n",
       " 5310389,\n",
       " 1148858,\n",
       " 133052,\n",
       " 5605310,\n",
       " 11798464,\n",
       " 1771458,\n",
       " 1509317,\n",
       " 493511,\n",
       " 427984,\n",
       " 7276496,\n",
       " 3049427,\n",
       " 2787286,\n",
       " 9275350,\n",
       " 362457,\n",
       " 3180514,\n",
       " 1312747,\n",
       " 395248,\n",
       " 3278832,\n",
       " 13993976,\n",
       " 5015545,\n",
       " 5933055,\n",
       " 13568012,\n",
       " 4392989,\n",
       " 15403043,\n",
       " 4786217,\n",
       " 6719533,\n",
       " 8259632,\n",
       " 4393011,\n",
       " 11339830,\n",
       " 13961273,\n",
       " 4655163,\n",
       " 14780476,\n",
       " 4458560,\n",
       " 3442754,\n",
       " 14813256,\n",
       " 14977101,\n",
       " 6031439,\n",
       " 8095831,\n",
       " 8652893,\n",
       " 14518368,\n",
       " 13469793,\n",
       " 755817,\n",
       " 7407726,\n",
       " 15435889,\n",
       " 12355702,\n",
       " 7178365,\n",
       " 2361476,\n",
       " 3541127,\n",
       " 8685706,\n",
       " 2984076,\n",
       " 166030,\n",
       " 15730832,\n",
       " 657554,\n",
       " 7309463,\n",
       " 3016867,\n",
       " 5572772,\n",
       " 7866536,\n",
       " 2001072,\n",
       " 15042738,\n",
       " 3573940,\n",
       " 3147965,\n",
       " 9373888,\n",
       " 16287949,\n",
       " 657620,\n",
       " 5015765,\n",
       " 362710,\n",
       " 4688086,\n",
       " 8292566,\n",
       " 15304923,\n",
       " 2951395,\n",
       " 15927523,\n",
       " 3574006,\n",
       " 9013495,\n",
       " 3475710,\n",
       " 13568254,\n",
       " 2197763,\n",
       " 11241732,\n",
       " 3770631,\n",
       " 8718607,\n",
       " 3016977,\n",
       " 6621457,\n",
       " 7538967,\n",
       " 8030491,\n",
       " 4491549,\n",
       " 1313055,\n",
       " 2820385,\n",
       " 6195493,\n",
       " 4524329,\n",
       " 9570612,\n",
       " 15272253,\n",
       " 3311942,\n",
       " 6195526,\n",
       " 2066764,\n",
       " 788817,\n",
       " 14420314,\n",
       " 5474652,\n",
       " 8030557,\n",
       " 8227171,\n",
       " 2405,\n",
       " 9046374,\n",
       " 952695,\n",
       " 4295045,\n",
       " 3606918,\n",
       " 6588820,\n",
       " 13339036,\n",
       " 15534493,\n",
       " 12749216,\n",
       " 919992,\n",
       " 11372984,\n",
       " 2066874,\n",
       " 8915397,\n",
       " 7899591,\n",
       " 4688328,\n",
       " 756169,\n",
       " 2656716,\n",
       " 2492882,\n",
       " 1116628,\n",
       " 4360671,\n",
       " 4131310,\n",
       " 2722287,\n",
       " 16386542,\n",
       " 330227,\n",
       " 8161787,\n",
       " 14682620,\n",
       " 8227325,\n",
       " 3279360,\n",
       " 5442048,\n",
       " 5245445,\n",
       " 4360715,\n",
       " 10521100,\n",
       " 6720017,\n",
       " 330260,\n",
       " 12421658,\n",
       " 4885019,\n",
       " 3836444,\n",
       " 13634078,\n",
       " 6982180,\n",
       " 3770917,\n",
       " 1640998,\n",
       " 11766311,\n",
       " 15370791,\n",
       " 3770928,\n",
       " 3476018,\n",
       " 4622900,\n",
       " 13044280,\n",
       " 4065849,\n",
       " 11307578,\n",
       " 2722364,\n",
       " 14649928,\n",
       " 2951758,\n",
       " 8358478,\n",
       " 5245522,\n",
       " 3148372,\n",
       " 11569752,\n",
       " 461402,\n",
       " 8489565,\n",
       " 13896285,\n",
       " 2558563,\n",
       " 5540454,\n",
       " 1673833,\n",
       " 2669,\n",
       " 7604846,\n",
       " 2722419,\n",
       " 7441012,\n",
       " 8227446,\n",
       " 15895161,\n",
       " 7637626,\n",
       " 5507707,\n",
       " 10160762,\n",
       " 16484992,\n",
       " 10816131,\n",
       " 8718981,\n",
       " 5868177,\n",
       " 14977684,\n",
       " 16419476,\n",
       " 3902103,\n",
       " 2886297,\n",
       " 5999264,\n",
       " 12978852,\n",
       " 6687402,\n",
       " 6916785,\n",
       " 8882870,\n",
       " 2788023,\n",
       " 6752962,\n",
       " 4295364,\n",
       " 7932613,\n",
       " 13699781,\n",
       " 14813894,\n",
       " 11274952,\n",
       " 4491978,\n",
       " 14125778,\n",
       " 2034391,\n",
       " 3902169,\n",
       " 11078371,\n",
       " 2362092,\n",
       " 9702128,\n",
       " 1837810,\n",
       " 8063733,\n",
       " 11733751,\n",
       " 10554122,\n",
       " 9964313,\n",
       " 723741,\n",
       " 8719135,\n",
       " 1575713,\n",
       " 12421922,\n",
       " 15731492,\n",
       " 3279657,\n",
       " 1542955,\n",
       " 920366,\n",
       " 7211827,\n",
       " 2591541,\n",
       " 4098871,\n",
       " 7637824,\n",
       " 5868353,\n",
       " 7703362,\n",
       " 11995969,\n",
       " 15764294,\n",
       " 658247,\n",
       " 2526025,\n",
       " 6884181,\n",
       " 14879575,\n",
       " 5639003,\n",
       " 13273949,\n",
       " 7211871,\n",
       " 5180259,\n",
       " 8817508,\n",
       " 4688746,\n",
       " 13732715,\n",
       " 13765484,\n",
       " 12520306,\n",
       " 4623219,\n",
       " 16255862,\n",
       " 887674,\n",
       " 9538426,\n",
       " 7211904,\n",
       " 5180292,\n",
       " 11307908,\n",
       " 1051530,\n",
       " 10947471,\n",
       " 4197266,\n",
       " 5344148,\n",
       " 15207331,\n",
       " 1969062,\n",
       " 1706921,\n",
       " 1412011,\n",
       " 12979116,\n",
       " 11701169,\n",
       " 3083197,\n",
       " 6720446,\n",
       " 3869631,\n",
       " 14289865,\n",
       " 6589403,\n",
       " 134108,\n",
       " 3083230,\n",
       " 3804126,\n",
       " 7343079,\n",
       " 920553,\n",
       " 6327284,\n",
       " 6065143,\n",
       " 16419850,\n",
       " 14289931,\n",
       " 625676,\n",
       " 7572495,\n",
       " 35856,\n",
       " 11340820,\n",
       " 11078679,\n",
       " 6949917,\n",
       " 2362400,\n",
       " 2722848,\n",
       " 8129568,\n",
       " 12913699,\n",
       " 6163494,\n",
       " 6687787,\n",
       " 6458415,\n",
       " 14453809,\n",
       " 4820020,\n",
       " 1281078,\n",
       " 7113784,\n",
       " 15141947,\n",
       " 14814268,\n",
       " 4820031,\n",
       " 2100292,\n",
       " 11340875,\n",
       " 4000850,\n",
       " 887894,\n",
       " 7769175,\n",
       " 1707097,\n",
       " 10095719,\n",
       " 134251,\n",
       " 2722925,\n",
       " 330865,\n",
       " 14584951,\n",
       " 6753402,\n",
       " 9374845,\n",
       " 12225671,\n",
       " 1117321,\n",
       " 5508235,\n",
       " 1346704,\n",
       " 4590736,\n",
       " 11472028,\n",
       " 4033696,\n",
       " 7277728,\n",
       " 9538723,\n",
       " 7802021,\n",
       " 1707174,\n",
       " 789675,\n",
       " 9997489,\n",
       " 14519479,\n",
       " 7474364,\n",
       " 8293567,\n",
       " 8064195,\n",
       " 1674438,\n",
       " 11111624,\n",
       " 330953,\n",
       " 1117387,\n",
       " 9112781,\n",
       " 2952418,\n",
       " 4820196,\n",
       " 2002150,\n",
       " 13569255,\n",
       " 1346792,\n",
       " 13929703,\n",
       " 6393075,\n",
       " 3738874,\n",
       " 1543428,\n",
       " 1641735,\n",
       " 2854155,\n",
       " 36109,\n",
       " 3345679,\n",
       " 4230420,\n",
       " 36120,\n",
       " 5475609,\n",
       " 11767070,\n",
       " 527655,\n",
       " 4590890,\n",
       " 298283,\n",
       " 4656428,\n",
       " 2624816,\n",
       " 3345712,\n",
       " 6229296,\n",
       " 7769395,\n",
       " 4296002,\n",
       " 2526531,\n",
       " 7572803,\n",
       " 14355788,\n",
       " 14421326,\n",
       " 5934419,\n",
       " 11701587,\n",
       " 2428246,\n",
       " 12455274,\n",
       " 232811,\n",
       " 8523126,\n",
       " 4459902,\n",
       " 1281408,\n",
       " 3870082,\n",
       " 11144580,\n",
       " 2952583,\n",
       " 11341194,\n",
       " 12684712,\n",
       " 2264489,\n",
       " 9538987,\n",
       " 12455340,\n",
       " 12225968,\n",
       " 1969590,\n",
       " 7376310,\n",
       " 265657,\n",
       " 4296123,\n",
       " 6491580,\n",
       " 363975,\n",
       " 1215947,\n",
       " 14355920,\n",
       " 2592212,\n",
       " 14126548,\n",
       " 1281496,\n",
       " 4230618,\n",
       " 4296156,\n",
       " 3706336,\n",
       " 16584168,\n",
       " 11570665,\n",
       " 13143533,\n",
       " 5869046,\n",
       " 10423805,\n",
       " 1347078,\n",
       " 8490511,\n",
       " 9965072,\n",
       " 167449,\n",
       " 331294,\n",
       " 4492836,\n",
       " 9932325,\n",
       " 4197926,\n",
       " 8523302,\n",
       " 12455461,\n",
       " 3214889,\n",
       " 1052223,\n",
       " 8654400,\n",
       " 15273540,\n",
       " 3870280,\n",
       " 364107,\n",
       " 12258891,\n",
       " 16322126,\n",
       " 12881491,\n",
       " 1445462,\n",
       " 11964003,\n",
       " 14224998,\n",
       " 9244264,\n",
       " 4951668,\n",
       " 5049975,\n",
       " 626303,\n",
       " 2166413,\n",
       " 9375373,\n",
       " 429711,\n",
       " 13799056,\n",
       " 1609362,\n",
       " 12783250,\n",
       " 2559641,\n",
       " 13602464,\n",
       " 1511077,\n",
       " 9178792,\n",
       " 659116,\n",
       " 2854573,\n",
       " 2625201,\n",
       " 6950577,\n",
       " 14978740,\n",
       " 6065847,\n",
       " 3968708,\n",
       " 14552776,\n",
       " 2690761,\n",
       " 12783305,\n",
       " 7245520,\n",
       " 528084,\n",
       " 10063577,\n",
       " 6885083,\n",
       " 16518883,\n",
       " 6295274,\n",
       " 5279468,\n",
       " 16125677,\n",
       " 36604,\n",
       " 4034301,\n",
       " 7868164,\n",
       " 13897484,\n",
       " 5738256,\n",
       " 6819600,\n",
       " 8032020,\n",
       " 134933,\n",
       " 1576725,\n",
       " 1937173,\n",
       " 1707812,\n",
       " 1085234,\n",
       " 2887474,\n",
       " 3673908,\n",
       " 167735,\n",
       " 8490808,\n",
       " 11538237,\n",
       " 1314628,\n",
       " 4296519,\n",
       " 6491976,\n",
       " 7540551,\n",
       " 1150794,\n",
       " 8359754,\n",
       " 8884047,\n",
       " 5705553,\n",
       " 10063698,\n",
       " 7245652,\n",
       " 888664,\n",
       " 1904492,\n",
       " 4165487,\n",
       " 13274994,\n",
       " 10096500,\n",
       " 9768821,\n",
       " 6262648,\n",
       " 13275005,\n",
       " 4198278,\n",
       " 8163206,\n",
       " 3772303,\n",
       " 266130,\n",
       " 4722582,\n",
       " 4788120,\n",
       " 7540639,\n",
       " 10096544,\n",
       " 2756519,\n",
       " 7049137,\n",
       " 10096566,\n",
       " 36791,\n",
       " 1904569,\n",
       " 2428862,\n",
       " 11472831,\n",
       " 9539526,\n",
       " 13242313,\n",
       " 16519125,\n",
       " 14389206,\n",
       " 8392666,\n",
       " 4558814,\n",
       " 1740768,\n",
       " 3608557,\n",
       " 8753136,\n",
       " 2428917,\n",
       " 790522,\n",
       " 2953210,\n",
       " 3510272,\n",
       " 16158721,\n",
       " 8917014,\n",
       " 6524954,\n",
       " 6230044,\n",
       " 1937437,\n",
       " 266273,\n",
       " 2101282,\n",
       " 3280933,\n",
       " 9834535,\n",
       " 9900073,\n",
       " 15700010,\n",
       " 3870764,\n",
       " 4984877,\n",
       " 5410863,\n",
       " 16420928,\n",
       " 4493386,\n",
       " 3117132,\n",
       " 299086,\n",
       " 10883154,\n",
       " 7049302,\n",
       " 5705817,\n",
       " 14422107,\n",
       " 8392798,\n",
       " 954466,\n",
       " 7639144,\n",
       " 4591726,\n",
       " 4657264,\n",
       " 3018869,\n",
       " 10227829,\n",
       " 6066298,\n",
       " 69758,\n",
       " 1544319,\n",
       " 9474175,\n",
       " 7901329,\n",
       " 13668497,\n",
       " 14520469,\n",
       " 13996187,\n",
       " 4296860,\n",
       " 11178141,\n",
       " 12292254,\n",
       " 13176995,\n",
       " 7180466,\n",
       " 3608755,\n",
       " 8523962,\n",
       " 15405243,\n",
       " 10096830,\n",
       " 14094527,\n",
       " 11243712,\n",
       " 16519367,\n",
       " 10064072,\n",
       " 2068700,\n",
       " 1380573,\n",
       " 3936478,\n",
       " 12030179,\n",
       " 16421093,\n",
       " 10883308,\n",
       " 13766892,\n",
       " 14913774,\n",
       " 11473139,\n",
       " 9638141,\n",
       " 7868681,\n",
       " 15110410,\n",
       " 16519433,\n",
       " 7082258,\n",
       " 692501,\n",
       " 7246103,\n",
       " 14946587,\n",
       " 626974,\n",
       " 1773856,\n",
       " 6099232,\n",
       " 7541024,\n",
       " 15077696,\n",
       " 4034884,\n",
       " 6558020,\n",
       " 13046084,\n",
       " 2691399,\n",
       " 3805512,\n",
       " 8098119,\n",
       " ...}"
      ]
     },
     "execution_count": 18,
     "metadata": {},
     "output_type": "execute_result"
    }
   ],
   "source": [
    "targetUsers"
   ]
  },
  {
   "cell_type": "code",
   "execution_count": 19,
   "metadata": {},
   "outputs": [],
   "source": [
    "targetUsersMatrix = copy.deepcopy(fullMatrix)\n",
    "\n",
    "for i in range(maxUserId + 1):\n",
    "    if i not in targetUsers:\n",
    "        ptr = targetUsersMatrix.indptr[i]\n",
    "        ptr_next = targetUsersMatrix.indptr[i+1]\n",
    "        if ptr != ptr_next:\n",
    "            targetUsersMatrix.data[ptr:ptr_next].fill(0)"
   ]
  },
  {
   "cell_type": "code",
   "execution_count": 20,
   "metadata": {},
   "outputs": [],
   "source": [
    "targetUsersMatrix.eliminate_zeros()"
   ]
  },
  {
   "cell_type": "code",
   "execution_count": 21,
   "metadata": {},
   "outputs": [
    {
     "data": {
      "text/plain": [
       "79.27946090698242"
      ]
     },
     "execution_count": 21,
     "metadata": {},
     "output_type": "execute_result"
    }
   ],
   "source": [
    "(targetUsersMatrix.data.nbytes + targetUsersMatrix.indptr.nbytes + targetUsersMatrix.indices.nbytes) / (1024 * 1024)"
   ]
  },
  {
   "cell_type": "code",
   "execution_count": 22,
   "metadata": {},
   "outputs": [
    {
     "name": "stdout",
     "output_type": "stream",
     "text": [
      "CPU times: user 22.5 s, sys: 840 ms, total: 23.4 s\n",
      "Wall time: 23.4 s\n"
     ]
    }
   ],
   "source": [
    "%%time\n",
    "commonFriends = targetUsersMatrix.dot(fullMatrix)"
   ]
  },
  {
   "cell_type": "code",
   "execution_count": 23,
   "metadata": {},
   "outputs": [
    {
     "data": {
      "text/plain": [
       "scipy.sparse.csr.csr_matrix"
      ]
     },
     "execution_count": 23,
     "metadata": {},
     "output_type": "execute_result"
    }
   ],
   "source": [
    "type(commonFriends)"
   ]
  },
  {
   "cell_type": "code",
   "execution_count": 24,
   "metadata": {},
   "outputs": [
    {
     "name": "stdout",
     "output_type": "stream",
     "text": [
      "Memory usage 1583.078125 mb.\n"
     ]
    }
   ],
   "source": [
    "memory_usage()"
   ]
  },
  {
   "cell_type": "code",
   "execution_count": 25,
   "metadata": {},
   "outputs": [
    {
     "data": {
      "text/plain": [
       "7088"
      ]
     },
     "execution_count": 25,
     "metadata": {},
     "output_type": "execute_result"
    }
   ],
   "source": [
    "len(targetUsers)"
   ]
  },
  {
   "cell_type": "markdown",
   "metadata": {
    "slideshow": {
     "slide_type": "slide"
    }
   },
   "source": [
    "## Что будет, если мы попробуем посчитать общих друзей для всех пользователей"
   ]
  },
  {
   "cell_type": "code",
   "execution_count": 26,
   "metadata": {},
   "outputs": [
    {
     "name": "stdout",
     "output_type": "stream",
     "text": [
      "CPU times: user 5min 16s, sys: 14.1 s, total: 5min 30s\n",
      "Wall time: 5min 30s\n"
     ]
    }
   ],
   "source": [
    "%%time\n",
    "commonFriends = fullMatrix.dot(fullMatrix)"
   ]
  },
  {
   "cell_type": "code",
   "execution_count": null,
   "metadata": {},
   "outputs": [],
   "source": [
    "memory_usage()"
   ]
  },
  {
   "cell_type": "markdown",
   "metadata": {
    "slideshow": {
     "slide_type": "slide"
    }
   },
   "source": [
    "\n",
    "\n",
    "## Семинар\n",
    "\n",
    "Для targetUsers посчитать оценку  возраста, как средние от возрастов друзей"
   ]
  },
  {
   "cell_type": "code",
   "execution_count": null,
   "metadata": {},
   "outputs": [],
   "source": [
    "demographyPath"
   ]
  },
  {
   "cell_type": "code",
   "execution_count": null,
   "metadata": {},
   "outputs": [],
   "source": [
    "birthDates = numpy.zeros(maxUserId + 1, dtype=numpy.int32)\n",
    "\n",
    "# Iterate all files in demography path\n",
    "for file in [f for f in os.listdir(demographyPath) if f.endswith(\"gz\")]:\n",
    "    csvinput = gzip.open(os.path.join(demographyPath, file), \"rt\")\n",
    "    csv_reader = csv.reader(csvinput, delimiter='\\t')\n",
    "   \n",
    "    # Extract birth date from each line\n",
    "    for line in csv_reader:\n",
    "        user = int(line[0])\n",
    "        birthDates[user] = int(line[2]) if line[2] != '' else 0"
   ]
  },
  {
   "cell_type": "code",
   "execution_count": null,
   "metadata": {},
   "outputs": [],
   "source": [
    "print (\"Memory used by demography: %s (mb)\" % (birthDates.nbytes / (1024 * 1024)))"
   ]
  },
  {
   "cell_type": "code",
   "execution_count": null,
   "metadata": {},
   "outputs": [],
   "source": []
  }
 ],
 "metadata": {
  "anaconda-cloud": {},
  "kernelspec": {
   "display_name": "Python 3",
   "language": "python",
   "name": "python3"
  },
  "language_info": {
   "codemirror_mode": {
    "name": "ipython",
    "version": 3
   },
   "file_extension": ".py",
   "mimetype": "text/x-python",
   "name": "python",
   "nbconvert_exporter": "python",
   "pygments_lexer": "ipython3",
   "version": "3.6.5"
  }
 },
 "nbformat": 4,
 "nbformat_minor": 1
}
